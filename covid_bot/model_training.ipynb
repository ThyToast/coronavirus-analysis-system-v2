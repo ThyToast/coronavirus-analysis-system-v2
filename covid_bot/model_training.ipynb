{
  "nbformat": 4,
  "nbformat_minor": 0,
  "metadata": {
    "colab": {
      "name": "chatbot",
      "provenance": [],
      "collapsed_sections": []
    },
    "kernelspec": {
      "name": "python3",
      "display_name": "Python 3"
    }
  },
  "cells": [
    {
      "cell_type": "code",
      "metadata": {
        "id": "YCRZYNpvoxh7"
      },
      "source": [
        "import pandas as pd \n",
        "import numpy as np \n",
        "import matplotlib.pyplot as plt\n",
        "from pathlib import Path\n",
        "import string\n",
        "import re\n",
        "import joblib\n",
        "import json\n",
        "from collections import Counter\n",
        "import nltk\n",
        "import tensorflow \n",
        "from nltk.corpus import stopwords\n",
        "from nltk.stem import WordNetLemmatizer\n",
        "\n",
        "from tensorflow.keras.preprocessing.text import Tokenizer\n",
        "from tensorflow.keras.preprocessing.sequence import pad_sequences\n",
        "from tensorflow.keras.utils import plot_model\n",
        "from tensorflow.keras.models import Sequential\n",
        "from tensorflow.keras.layers import Embedding, Dense, Flatten\n",
        "from tensorflow.keras.layers import Conv1D\n",
        "from tensorflow.keras.layers import MaxPooling1D\n",
        "from tensorflow.keras.callbacks import ModelCheckpoint, EarlyStopping, ReduceLROnPlateau"
      ],
      "execution_count": null,
      "outputs": []
    },
    {
      "cell_type": "code",
      "metadata": {
        "id": "XpMgMe8Yo9LF"
      },
      "source": [
        "  def load_doc(jsonFile):\n",
        "    with open(jsonFile) as file:\n",
        "        Json_data = json.loads(file.read())\n",
        "    return Json_data"
      ],
      "execution_count": null,
      "outputs": []
    },
    {
      "cell_type": "code",
      "metadata": {
        "id": "G6cmQkg7pPO5"
      },
      "source": [
        "data = load_doc('intents.json')"
      ],
      "execution_count": null,
      "outputs": []
    },
    {
      "cell_type": "code",
      "metadata": {
        "id": "4fSM1diLph53"
      },
      "source": [
        "def frame_data(feat_1,feat_2,is_pattern):\n",
        "    is_pattern = is_pattern\n",
        "    df = pd.DataFrame(columns=[feat_1,feat_2])\n",
        "    for intent in data['intents']:\n",
        "        if is_pattern:\n",
        "            for pattern in intent['patterns']:\n",
        "                w = pattern\n",
        "                df_to_append = pd.Series([w,intent['tag']], index = df.columns)\n",
        "                df = df.append(df_to_append,ignore_index=True)\n",
        "        else:\n",
        "            for response in intent['responses']:\n",
        "                w = response\n",
        "                df_to_append = pd.Series([w,intent['tag']], index = df.columns)\n",
        "                df = df.append(df_to_append,ignore_index=True)\n",
        "    return df"
      ],
      "execution_count": null,
      "outputs": []
    },
    {
      "cell_type": "code",
      "metadata": {
        "id": "MJh_vsYxpk04",
        "outputId": "5438b836-53ae-4642-a6ea-9dd4bab6c0be",
        "colab": {
          "base_uri": "https://localhost:8080/",
          "height": 419
        }
      },
      "source": [
        "# users intents \n",
        "df1 = frame_data('questions','labels',True)\n",
        "df1"
      ],
      "execution_count": null,
      "outputs": [
        {
          "output_type": "execute_result",
          "data": {
            "text/html": [
              "<div>\n",
              "<style scoped>\n",
              "    .dataframe tbody tr th:only-of-type {\n",
              "        vertical-align: middle;\n",
              "    }\n",
              "\n",
              "    .dataframe tbody tr th {\n",
              "        vertical-align: top;\n",
              "    }\n",
              "\n",
              "    .dataframe thead th {\n",
              "        text-align: right;\n",
              "    }\n",
              "</style>\n",
              "<table border=\"1\" class=\"dataframe\">\n",
              "  <thead>\n",
              "    <tr style=\"text-align: right;\">\n",
              "      <th></th>\n",
              "      <th>questions</th>\n",
              "      <th>labels</th>\n",
              "    </tr>\n",
              "  </thead>\n",
              "  <tbody>\n",
              "    <tr>\n",
              "      <th>0</th>\n",
              "      <td>Hi there</td>\n",
              "      <td>start_conversation</td>\n",
              "    </tr>\n",
              "    <tr>\n",
              "      <th>1</th>\n",
              "      <td>Is anyone there?</td>\n",
              "      <td>start_conversation</td>\n",
              "    </tr>\n",
              "    <tr>\n",
              "      <th>2</th>\n",
              "      <td>Hey</td>\n",
              "      <td>start_conversation</td>\n",
              "    </tr>\n",
              "    <tr>\n",
              "      <th>3</th>\n",
              "      <td>Hola</td>\n",
              "      <td>start_conversation</td>\n",
              "    </tr>\n",
              "    <tr>\n",
              "      <th>4</th>\n",
              "      <td>Hello</td>\n",
              "      <td>start_conversation</td>\n",
              "    </tr>\n",
              "    <tr>\n",
              "      <th>...</th>\n",
              "      <td>...</td>\n",
              "      <td>...</td>\n",
              "    </tr>\n",
              "    <tr>\n",
              "      <th>68</th>\n",
              "      <td>How many cases of COVID-19 are there?</td>\n",
              "      <td>query</td>\n",
              "    </tr>\n",
              "    <tr>\n",
              "      <th>69</th>\n",
              "      <td>Cases of COVID-19</td>\n",
              "      <td>query</td>\n",
              "    </tr>\n",
              "    <tr>\n",
              "      <th>70</th>\n",
              "      <td>Number of cases</td>\n",
              "      <td>query</td>\n",
              "    </tr>\n",
              "    <tr>\n",
              "      <th>71</th>\n",
              "      <td>How many are infected by COVID-19</td>\n",
              "      <td>query</td>\n",
              "    </tr>\n",
              "    <tr>\n",
              "      <th>72</th>\n",
              "      <td>Number of COVID-19 cases</td>\n",
              "      <td>query</td>\n",
              "    </tr>\n",
              "  </tbody>\n",
              "</table>\n",
              "<p>73 rows × 2 columns</p>\n",
              "</div>"
            ],
            "text/plain": [
              "                                questions              labels\n",
              "0                                Hi there  start_conversation\n",
              "1                        Is anyone there?  start_conversation\n",
              "2                                     Hey  start_conversation\n",
              "3                                    Hola  start_conversation\n",
              "4                                   Hello  start_conversation\n",
              "..                                    ...                 ...\n",
              "68  How many cases of COVID-19 are there?               query\n",
              "69                      Cases of COVID-19               query\n",
              "70                        Number of cases               query\n",
              "71      How many are infected by COVID-19               query\n",
              "72               Number of COVID-19 cases               query\n",
              "\n",
              "[73 rows x 2 columns]"
            ]
          },
          "metadata": {
            "tags": []
          },
          "execution_count": 5
        }
      ]
    },
    {
      "cell_type": "code",
      "metadata": {
        "id": "7sRJy9BLppme"
      },
      "source": [
        "lemmatizer = WordNetLemmatizer()\n",
        "\n",
        "vocab = Counter()\n",
        "labels = []\n",
        "def tokenizer(entry):\n",
        "    tokens = entry.split()\n",
        "    re_punc = re.compile('[%s]' % re.escape(string.punctuation))\n",
        "    tokens = [re_punc.sub('', w) for w in tokens]\n",
        "    tokens = [word for word in tokens if word.isalpha()]\n",
        "    tokens = [lemmatizer.lemmatize(w.lower()) for w in tokens]\n",
        "#     stop_words = set(stopwords.words('english'))\n",
        "#     tokens = [w for w in tokens if not w in stop_words]\n",
        "    tokens = [word.lower() for word in tokens if len(word) > 1]\n",
        "    return tokens"
      ],
      "execution_count": null,
      "outputs": []
    },
    {
      "cell_type": "code",
      "metadata": {
        "id": "54jbphV3pthZ"
      },
      "source": [
        "def remove_stop_words(tokenizer,df,feature):\n",
        "    doc_without_stopwords = []\n",
        "    for entry in df[feature]:\n",
        "        tokens = tokenizer(entry)\n",
        "        joblib.dump(tokens,'tokens.pkl')\n",
        "        doc_without_stopwords.append(' '.join(tokens))\n",
        "    df[feature] = doc_without_stopwords\n",
        "    return "
      ],
      "execution_count": null,
      "outputs": []
    },
    {
      "cell_type": "code",
      "metadata": {
        "id": "hGT66gBVpvY3"
      },
      "source": [
        "def create_vocab(tokenizer,df,feature):\n",
        "    for entry in df[feature]:\n",
        "        tokens = tokenizer(entry)   \n",
        "        vocab.update(tokens)\n",
        "    joblib.dump(vocab,'vocab.pkl')\n",
        "    return "
      ],
      "execution_count": null,
      "outputs": []
    },
    {
      "cell_type": "code",
      "metadata": {
        "id": "wFaPJpjwpwws",
        "outputId": "67c8a3e2-0d8d-4025-843b-6531d1ab6284",
        "colab": {
          "base_uri": "https://localhost:8080/"
        }
      },
      "source": [
        "nltk.download('wordnet')\n",
        "create_vocab(tokenizer,df1,'questions')\n",
        "remove_stop_words(tokenizer,df1,'questions')"
      ],
      "execution_count": null,
      "outputs": [
        {
          "output_type": "stream",
          "text": [
            "[nltk_data] Downloading package wordnet to /root/nltk_data...\n",
            "[nltk_data]   Package wordnet is already up-to-date!\n"
          ],
          "name": "stdout"
        }
      ]
    },
    {
      "cell_type": "code",
      "metadata": {
        "id": "bnoUKE8Np5yO",
        "outputId": "4611ca3d-51d4-4884-9f60-48634aff7617",
        "colab": {
          "base_uri": "https://localhost:8080/"
        }
      },
      "source": [
        "print(vocab.most_common(20))"
      ],
      "execution_count": null,
      "outputs": [
        {
          "output_type": "stream",
          "text": [
            "[('what', 17), ('you', 16), ('do', 16), ('how', 15), ('of', 12), ('for', 7), ('symptom', 7), ('to', 6), ('know', 6), ('are', 6), ('about', 6), ('doe', 6), ('there', 5), ('me', 5), ('can', 5), ('the', 5), ('long', 5), ('is', 4), ('protect', 4), ('mask', 4)]\n"
          ],
          "name": "stdout"
        }
      ]
    },
    {
      "cell_type": "code",
      "metadata": {
        "id": "2pUoBYVgqJky",
        "outputId": "62924dfc-88c7-48e5-b7e9-871e2a1064d2",
        "colab": {
          "base_uri": "https://localhost:8080/"
        }
      },
      "source": [
        "test_index = []\n",
        "test_list = list(df1.groupby(by='labels',as_index=False).first()['questions'])\n",
        "for i,_ in enumerate(test_list):\n",
        "    idx = df1[df1.questions == test_list[i]].index[0]\n",
        "    test_index.append(idx)\n",
        "test_index"
      ],
      "execution_count": null,
      "outputs": [
        {
          "output_type": "execute_result",
          "data": {
            "text/plain": [
              "[25, 48, 35, 7, 55, 51, 64, 17, 40, 68, 0, 60, 29, 12]"
            ]
          },
          "metadata": {
            "tags": []
          },
          "execution_count": 11
        }
      ]
    },
    {
      "cell_type": "code",
      "metadata": {
        "id": "mLFKwq-wqKCL",
        "outputId": "f53a725b-0ca6-46e6-cb40-c90af901d302",
        "colab": {
          "base_uri": "https://localhost:8080/",
          "height": 69
        }
      },
      "source": [
        "train_index = [i for i in df1.index if i not in test_index]\n",
        "' '.join(list(vocab.keys()))"
      ],
      "execution_count": null,
      "outputs": [
        {
          "output_type": "execute_result",
          "data": {
            "application/vnd.google.colaboratory.intrinsic+json": {
              "type": "string"
            },
            "text/plain": [
              "'hi there is anyone hey hola hello good day bye see you later goodbye nice chatting to till next time thanks thank thats helpful awesome for helping me how can help what do provide be support offered know are about tell really lot exactly the symptom of list happens when get doe spread catch transmit protect myself prevent transmission from im afraid preventive measure reduce cure vaccine treat should wear mask others why people wearing purpose long incubation period take show appear survive on surface lifespan last not shouldnt cant many case number infected by'"
            ]
          },
          "metadata": {
            "tags": []
          },
          "execution_count": 12
        }
      ]
    },
    {
      "cell_type": "code",
      "metadata": {
        "id": "LObc9_p1qSmd"
      },
      "source": [
        "def encoder(df,feature):\n",
        "#     text = ' '.join(list(vocab.keys()))\n",
        "    t = Tokenizer()\n",
        "    entries = [entry for entry in df[feature]]\n",
        "    t.fit_on_texts(entries)\n",
        "    joblib.dump(t,'tokenizer_t.pkl')\n",
        "    vocab_size = len(t.word_index) + 1\n",
        "    entries = [entry for entry in df[feature]]\n",
        "    max_length = max([len(s.split()) for s in entries])\n",
        "    encoded = t.texts_to_sequences(entries)\n",
        "    padded = pad_sequences(encoded, maxlen=max_length, padding='post')\n",
        "    return padded, vocab_size"
      ],
      "execution_count": null,
      "outputs": []
    },
    {
      "cell_type": "code",
      "metadata": {
        "id": "FtEhjd82qXbI",
        "outputId": "a2c60974-1cbe-4ad4-c038-39348783c461",
        "colab": {
          "base_uri": "https://localhost:8080/",
          "height": 204
        }
      },
      "source": [
        "X,vocab_size = encoder(df1,'questions')\n",
        "df_encoded = pd.DataFrame(X)\n",
        "df_encoded['labels'] = df1.labels\n",
        "df_encoded.head()"
      ],
      "execution_count": null,
      "outputs": [
        {
          "output_type": "execute_result",
          "data": {
            "text/html": [
              "<div>\n",
              "<style scoped>\n",
              "    .dataframe tbody tr th:only-of-type {\n",
              "        vertical-align: middle;\n",
              "    }\n",
              "\n",
              "    .dataframe tbody tr th {\n",
              "        vertical-align: top;\n",
              "    }\n",
              "\n",
              "    .dataframe thead th {\n",
              "        text-align: right;\n",
              "    }\n",
              "</style>\n",
              "<table border=\"1\" class=\"dataframe\">\n",
              "  <thead>\n",
              "    <tr style=\"text-align: right;\">\n",
              "      <th></th>\n",
              "      <th>0</th>\n",
              "      <th>1</th>\n",
              "      <th>2</th>\n",
              "      <th>3</th>\n",
              "      <th>4</th>\n",
              "      <th>5</th>\n",
              "      <th>6</th>\n",
              "      <th>labels</th>\n",
              "    </tr>\n",
              "  </thead>\n",
              "  <tbody>\n",
              "    <tr>\n",
              "      <th>0</th>\n",
              "      <td>33</td>\n",
              "      <td>13</td>\n",
              "      <td>0</td>\n",
              "      <td>0</td>\n",
              "      <td>0</td>\n",
              "      <td>0</td>\n",
              "      <td>0</td>\n",
              "      <td>start_conversation</td>\n",
              "    </tr>\n",
              "    <tr>\n",
              "      <th>1</th>\n",
              "      <td>18</td>\n",
              "      <td>44</td>\n",
              "      <td>13</td>\n",
              "      <td>0</td>\n",
              "      <td>0</td>\n",
              "      <td>0</td>\n",
              "      <td>0</td>\n",
              "      <td>start_conversation</td>\n",
              "    </tr>\n",
              "    <tr>\n",
              "      <th>2</th>\n",
              "      <td>45</td>\n",
              "      <td>0</td>\n",
              "      <td>0</td>\n",
              "      <td>0</td>\n",
              "      <td>0</td>\n",
              "      <td>0</td>\n",
              "      <td>0</td>\n",
              "      <td>start_conversation</td>\n",
              "    </tr>\n",
              "    <tr>\n",
              "      <th>3</th>\n",
              "      <td>46</td>\n",
              "      <td>0</td>\n",
              "      <td>0</td>\n",
              "      <td>0</td>\n",
              "      <td>0</td>\n",
              "      <td>0</td>\n",
              "      <td>0</td>\n",
              "      <td>start_conversation</td>\n",
              "    </tr>\n",
              "    <tr>\n",
              "      <th>4</th>\n",
              "      <td>47</td>\n",
              "      <td>0</td>\n",
              "      <td>0</td>\n",
              "      <td>0</td>\n",
              "      <td>0</td>\n",
              "      <td>0</td>\n",
              "      <td>0</td>\n",
              "      <td>start_conversation</td>\n",
              "    </tr>\n",
              "  </tbody>\n",
              "</table>\n",
              "</div>"
            ],
            "text/plain": [
              "    0   1   2  3  4  5  6              labels\n",
              "0  33  13   0  0  0  0  0  start_conversation\n",
              "1  18  44  13  0  0  0  0  start_conversation\n",
              "2  45   0   0  0  0  0  0  start_conversation\n",
              "3  46   0   0  0  0  0  0  start_conversation\n",
              "4  47   0   0  0  0  0  0  start_conversation"
            ]
          },
          "metadata": {
            "tags": []
          },
          "execution_count": 14
        }
      ]
    },
    {
      "cell_type": "code",
      "metadata": {
        "id": "NEYWE9sxqcFn"
      },
      "source": [
        "for i in range(0,2):\n",
        "    dt = [0]*7\n",
        "    dt.append('confused')\n",
        "    dt = [dt]\n",
        "    pd.DataFrame(dt).rename(columns = {7:'labels'})\n",
        "    df_encoded = df_encoded.append(pd.DataFrame(dt).rename(columns = {7:'labels'}),ignore_index=True)"
      ],
      "execution_count": null,
      "outputs": []
    },
    {
      "cell_type": "code",
      "metadata": {
        "id": "0A_DsBtwqdiu"
      },
      "source": [
        "train_index.append(73)"
      ],
      "execution_count": null,
      "outputs": []
    },
    {
      "cell_type": "code",
      "metadata": {
        "id": "cDx0qbO3qhGF"
      },
      "source": [
        "test_index.append(74)"
      ],
      "execution_count": null,
      "outputs": []
    },
    {
      "cell_type": "code",
      "metadata": {
        "id": "-ZzbmNsfqjDG"
      },
      "source": [
        "from sklearn.preprocessing import LabelEncoder\n",
        "lable_enc = LabelEncoder()"
      ],
      "execution_count": null,
      "outputs": []
    },
    {
      "cell_type": "code",
      "metadata": {
        "id": "f6ksYoKhqlfG"
      },
      "source": [
        "labl = lable_enc.fit_transform(df_encoded.labels)\n"
      ],
      "execution_count": null,
      "outputs": []
    },
    {
      "cell_type": "code",
      "metadata": {
        "id": "lwjYYN53qnVM"
      },
      "source": [
        "mapper = {}\n",
        "for index,key in enumerate(df_encoded.labels):\n",
        "    if key not in mapper.keys():\n",
        "        mapper[key] = labl[index]\n",
        "mapper = {v: k for k, v in mapper.items()}\n",
        "import pickle\n",
        "with open('mapper.p', 'wb') as fp:\n",
        "    pickle.dump(mapper, fp, protocol=pickle.HIGHEST_PROTOCOL)"
      ],
      "execution_count": null,
      "outputs": []
    },
    {
      "cell_type": "code",
      "metadata": {
        "id": "f5GIbBEdqo2o",
        "outputId": "0228fd5f-e784-42d6-c80f-30e13ed92eea",
        "colab": {
          "base_uri": "https://localhost:8080/",
          "height": 204
        }
      },
      "source": [
        "df2 = frame_data('response','labels',False)\n",
        "df2.head()\n"
      ],
      "execution_count": null,
      "outputs": [
        {
          "output_type": "execute_result",
          "data": {
            "text/html": [
              "<div>\n",
              "<style scoped>\n",
              "    .dataframe tbody tr th:only-of-type {\n",
              "        vertical-align: middle;\n",
              "    }\n",
              "\n",
              "    .dataframe tbody tr th {\n",
              "        vertical-align: top;\n",
              "    }\n",
              "\n",
              "    .dataframe thead th {\n",
              "        text-align: right;\n",
              "    }\n",
              "</style>\n",
              "<table border=\"1\" class=\"dataframe\">\n",
              "  <thead>\n",
              "    <tr style=\"text-align: right;\">\n",
              "      <th></th>\n",
              "      <th>response</th>\n",
              "      <th>labels</th>\n",
              "    </tr>\n",
              "  </thead>\n",
              "  <tbody>\n",
              "    <tr>\n",
              "      <th>0</th>\n",
              "      <td>Hello, are you well?</td>\n",
              "      <td>start_conversation</td>\n",
              "    </tr>\n",
              "    <tr>\n",
              "      <th>1</th>\n",
              "      <td>Happy to have you here</td>\n",
              "      <td>start_conversation</td>\n",
              "    </tr>\n",
              "    <tr>\n",
              "      <th>2</th>\n",
              "      <td>Good to see you again</td>\n",
              "      <td>start_conversation</td>\n",
              "    </tr>\n",
              "    <tr>\n",
              "      <th>3</th>\n",
              "      <td>Hi there, how can I help?</td>\n",
              "      <td>start_conversation</td>\n",
              "    </tr>\n",
              "    <tr>\n",
              "      <th>4</th>\n",
              "      <td>Stay safe!</td>\n",
              "      <td>end_conversation</td>\n",
              "    </tr>\n",
              "  </tbody>\n",
              "</table>\n",
              "</div>"
            ],
            "text/plain": [
              "                    response              labels\n",
              "0       Hello, are you well?  start_conversation\n",
              "1     Happy to have you here  start_conversation\n",
              "2      Good to see you again  start_conversation\n",
              "3  Hi there, how can I help?  start_conversation\n",
              "4                 Stay safe!    end_conversation"
            ]
          },
          "metadata": {
            "tags": []
          },
          "execution_count": 21
        }
      ]
    },
    {
      "cell_type": "code",
      "metadata": {
        "id": "flxYkHOOqq5B"
      },
      "source": [
        "df2.to_csv('response.csv',index=False)"
      ],
      "execution_count": null,
      "outputs": []
    },
    {
      "cell_type": "code",
      "metadata": {
        "id": "xmVkC0eiq6td"
      },
      "source": [
        "train = df_encoded.loc[train_index]\n",
        "test = df_encoded.loc[test_index]"
      ],
      "execution_count": null,
      "outputs": []
    },
    {
      "cell_type": "code",
      "metadata": {
        "id": "WUHLIp-zrBRK"
      },
      "source": [
        "X_train = train.drop(columns=['labels'],axis=1)\n",
        "y_train = train.labels\n",
        "X_test = test.drop(columns=['labels'],axis=1)\n",
        "y_test = test.labels"
      ],
      "execution_count": null,
      "outputs": []
    },
    {
      "cell_type": "code",
      "metadata": {
        "id": "nvAkANXmrF70"
      },
      "source": [
        "y_train =pd.get_dummies(y_train).values\n",
        "y_test =pd.get_dummies(y_test).values"
      ],
      "execution_count": null,
      "outputs": []
    },
    {
      "cell_type": "code",
      "metadata": {
        "id": "K49dS9carHgj"
      },
      "source": [
        "max_length = X_train.shape[1]\n",
        "output = 15"
      ],
      "execution_count": null,
      "outputs": []
    },
    {
      "cell_type": "code",
      "metadata": {
        "id": "nAPTSr-mrKoC"
      },
      "source": [
        "early_stopping = EarlyStopping(monitor='val_loss',patience=10)\n",
        "checkpoint = ModelCheckpoint(\"model-v1.h5\",\n",
        "                             monitor=\"val_loss\",\n",
        "                             mode=\"min\",\n",
        "                             save_best_only = True,\n",
        "                             verbose=1)\n",
        "reduce_lr = ReduceLROnPlateau(monitor = 'val_loss', factor = 0.2, patience = 3, verbose = 1, min_delta = 0.0001)\n",
        "callbacks = [early_stopping,checkpoint,reduce_lr]\n",
        "    \n",
        "    "
      ],
      "execution_count": null,
      "outputs": []
    },
    {
      "cell_type": "code",
      "metadata": {
        "id": "IyjFV8z9rNPL"
      },
      "source": [
        "\n",
        "def define_model(vocab_size, max_length):\n",
        "    model = Sequential()\n",
        "    model.add(Embedding(vocab_size,300, input_length=max_length))\n",
        "    model.add(Conv1D(filters=64, kernel_size=4, activation='relu'))\n",
        "    model.add(MaxPooling1D(pool_size=4))\n",
        "    model.add(Flatten())\n",
        "#     model.add(Dense(32, activation='relu'))\n",
        "    model.add(Dense(15, activation='softmax'))\n",
        "    \n",
        "    \n",
        "    # compile network\n",
        "#     model.compile(loss='categorical_crossentropy', optimizer='adam', metrics=['accuracy'])\n",
        "    model.compile(loss = 'categorical_crossentropy',\n",
        "              # optimizer = Adam(lr=0.001),\n",
        "              optimizer = 'adam',\n",
        "              metrics = ['accuracy'])\n",
        "    \n",
        "    # summarize defined model\n",
        "    model.summary()\n",
        "#     plot_model(model, to_file='model.png', show_shapes=True)\n",
        "    return model"
      ],
      "execution_count": null,
      "outputs": []
    },
    {
      "cell_type": "code",
      "metadata": {
        "id": "aBuN8wgmrOzc",
        "outputId": "a2c1ae1d-4d42-4ae9-b1f3-02cd55779408",
        "colab": {
          "base_uri": "https://localhost:8080/"
        }
      },
      "source": [
        "model = define_model(vocab_size, max_length)"
      ],
      "execution_count": null,
      "outputs": [
        {
          "output_type": "stream",
          "text": [
            "Model: \"sequential\"\n",
            "_________________________________________________________________\n",
            "Layer (type)                 Output Shape              Param #   \n",
            "=================================================================\n",
            "embedding (Embedding)        (None, 7, 300)            28800     \n",
            "_________________________________________________________________\n",
            "conv1d (Conv1D)              (None, 4, 64)             76864     \n",
            "_________________________________________________________________\n",
            "max_pooling1d (MaxPooling1D) (None, 1, 64)             0         \n",
            "_________________________________________________________________\n",
            "flatten (Flatten)            (None, 64)                0         \n",
            "_________________________________________________________________\n",
            "dense (Dense)                (None, 15)                975       \n",
            "=================================================================\n",
            "Total params: 106,639\n",
            "Trainable params: 106,639\n",
            "Non-trainable params: 0\n",
            "_________________________________________________________________\n"
          ],
          "name": "stdout"
        }
      ]
    },
    {
      "cell_type": "code",
      "metadata": {
        "id": "YwD8L9ySrRVB",
        "outputId": "86a3f7f3-082d-44d9-f2e1-6723af4c7132",
        "colab": {
          "base_uri": "https://localhost:8080/"
        }
      },
      "source": [
        "history = model.fit(X_train, y_train, epochs=500, verbose=1,validation_data=(X_test,y_test),callbacks=callbacks)"
      ],
      "execution_count": null,
      "outputs": [
        {
          "output_type": "stream",
          "text": [
            "Epoch 1/500\n",
            "1/2 [==============>...............] - ETA: 0s - loss: 2.6977 - accuracy: 0.0625\n",
            "Epoch 00001: val_loss improved from inf to 2.67829, saving model to model-v1.h5\n",
            "2/2 [==============================] - 0s 122ms/step - loss: 2.6980 - accuracy: 0.0833 - val_loss: 2.6783 - val_accuracy: 0.0667\n",
            "Epoch 2/500\n",
            "1/2 [==============>...............] - ETA: 0s - loss: 2.6281 - accuracy: 0.3438\n",
            "Epoch 00002: val_loss improved from 2.67829 to 2.65425, saving model to model-v1.h5\n",
            "2/2 [==============================] - 0s 21ms/step - loss: 2.6247 - accuracy: 0.3333 - val_loss: 2.6542 - val_accuracy: 0.1333\n",
            "Epoch 3/500\n",
            "1/2 [==============>...............] - ETA: 0s - loss: 2.5735 - accuracy: 0.5938\n",
            "Epoch 00003: val_loss improved from 2.65425 to 2.63102, saving model to model-v1.h5\n",
            "2/2 [==============================] - 0s 21ms/step - loss: 2.5700 - accuracy: 0.5333 - val_loss: 2.6310 - val_accuracy: 0.2667\n",
            "Epoch 4/500\n",
            "1/2 [==============>...............] - ETA: 0s - loss: 2.5173 - accuracy: 0.5938\n",
            "Epoch 00004: val_loss improved from 2.63102 to 2.60689, saving model to model-v1.h5\n",
            "2/2 [==============================] - 0s 20ms/step - loss: 2.5154 - accuracy: 0.6000 - val_loss: 2.6069 - val_accuracy: 0.4000\n",
            "Epoch 5/500\n",
            "1/2 [==============>...............] - ETA: 0s - loss: 2.4642 - accuracy: 0.6562\n",
            "Epoch 00005: val_loss improved from 2.60689 to 2.58226, saving model to model-v1.h5\n",
            "2/2 [==============================] - 0s 24ms/step - loss: 2.4616 - accuracy: 0.6667 - val_loss: 2.5823 - val_accuracy: 0.4000\n",
            "Epoch 6/500\n",
            "1/2 [==============>...............] - ETA: 0s - loss: 2.4345 - accuracy: 0.6875\n",
            "Epoch 00006: val_loss improved from 2.58226 to 2.55685, saving model to model-v1.h5\n",
            "2/2 [==============================] - 0s 23ms/step - loss: 2.4057 - accuracy: 0.7000 - val_loss: 2.5569 - val_accuracy: 0.4000\n",
            "Epoch 7/500\n",
            "1/2 [==============>...............] - ETA: 0s - loss: 2.3633 - accuracy: 0.6875\n",
            "Epoch 00007: val_loss improved from 2.55685 to 2.53018, saving model to model-v1.h5\n",
            "2/2 [==============================] - 0s 24ms/step - loss: 2.3484 - accuracy: 0.7000 - val_loss: 2.5302 - val_accuracy: 0.4000\n",
            "Epoch 8/500\n",
            "1/2 [==============>...............] - ETA: 0s - loss: 2.3095 - accuracy: 0.6562\n",
            "Epoch 00008: val_loss improved from 2.53018 to 2.50160, saving model to model-v1.h5\n",
            "2/2 [==============================] - 0s 23ms/step - loss: 2.2902 - accuracy: 0.7167 - val_loss: 2.5016 - val_accuracy: 0.4667\n",
            "Epoch 9/500\n",
            "1/2 [==============>...............] - ETA: 0s - loss: 2.2408 - accuracy: 0.7188\n",
            "Epoch 00009: val_loss improved from 2.50160 to 2.47323, saving model to model-v1.h5\n",
            "2/2 [==============================] - 0s 22ms/step - loss: 2.2281 - accuracy: 0.7333 - val_loss: 2.4732 - val_accuracy: 0.4667\n",
            "Epoch 10/500\n",
            "1/2 [==============>...............] - ETA: 0s - loss: 2.1846 - accuracy: 0.7188\n",
            "Epoch 00010: val_loss improved from 2.47323 to 2.44363, saving model to model-v1.h5\n",
            "2/2 [==============================] - 0s 23ms/step - loss: 2.1641 - accuracy: 0.7333 - val_loss: 2.4436 - val_accuracy: 0.4667\n",
            "Epoch 11/500\n",
            "1/2 [==============>...............] - ETA: 0s - loss: 2.2031 - accuracy: 0.6250\n",
            "Epoch 00011: val_loss improved from 2.44363 to 2.41118, saving model to model-v1.h5\n",
            "2/2 [==============================] - 0s 24ms/step - loss: 2.0950 - accuracy: 0.7333 - val_loss: 2.4112 - val_accuracy: 0.4667\n",
            "Epoch 12/500\n",
            "1/2 [==============>...............] - ETA: 0s - loss: 2.0028 - accuracy: 0.7812\n",
            "Epoch 00012: val_loss improved from 2.41118 to 2.37940, saving model to model-v1.h5\n",
            "2/2 [==============================] - 0s 23ms/step - loss: 2.0293 - accuracy: 0.7500 - val_loss: 2.3794 - val_accuracy: 0.4667\n",
            "Epoch 13/500\n",
            "1/2 [==============>...............] - ETA: 0s - loss: 1.9827 - accuracy: 0.7500\n",
            "Epoch 00013: val_loss improved from 2.37940 to 2.34404, saving model to model-v1.h5\n",
            "2/2 [==============================] - 0s 23ms/step - loss: 1.9561 - accuracy: 0.7500 - val_loss: 2.3440 - val_accuracy: 0.4667\n",
            "Epoch 14/500\n",
            "1/2 [==============>...............] - ETA: 0s - loss: 1.7968 - accuracy: 0.8125\n",
            "Epoch 00014: val_loss improved from 2.34404 to 2.30819, saving model to model-v1.h5\n",
            "2/2 [==============================] - 0s 20ms/step - loss: 1.8827 - accuracy: 0.7500 - val_loss: 2.3082 - val_accuracy: 0.4667\n",
            "Epoch 15/500\n",
            "1/2 [==============>...............] - ETA: 0s - loss: 1.8990 - accuracy: 0.7188\n",
            "Epoch 00015: val_loss improved from 2.30819 to 2.26674, saving model to model-v1.h5\n",
            "2/2 [==============================] - 0s 24ms/step - loss: 1.8032 - accuracy: 0.7667 - val_loss: 2.2667 - val_accuracy: 0.4667\n",
            "Epoch 16/500\n",
            "1/2 [==============>...............] - ETA: 0s - loss: 1.8324 - accuracy: 0.7188\n",
            "Epoch 00016: val_loss improved from 2.26674 to 2.22438, saving model to model-v1.h5\n",
            "2/2 [==============================] - 0s 21ms/step - loss: 1.7237 - accuracy: 0.7667 - val_loss: 2.2244 - val_accuracy: 0.4667\n",
            "Epoch 17/500\n",
            "1/2 [==============>...............] - ETA: 0s - loss: 1.5774 - accuracy: 0.8438\n",
            "Epoch 00017: val_loss improved from 2.22438 to 2.17943, saving model to model-v1.h5\n",
            "2/2 [==============================] - 0s 23ms/step - loss: 1.6444 - accuracy: 0.7833 - val_loss: 2.1794 - val_accuracy: 0.4667\n",
            "Epoch 18/500\n",
            "1/2 [==============>...............] - ETA: 0s - loss: 1.6055 - accuracy: 0.7500\n",
            "Epoch 00018: val_loss improved from 2.17943 to 2.12975, saving model to model-v1.h5\n",
            "2/2 [==============================] - 0s 22ms/step - loss: 1.5588 - accuracy: 0.7833 - val_loss: 2.1298 - val_accuracy: 0.4667\n",
            "Epoch 19/500\n",
            "1/2 [==============>...............] - ETA: 0s - loss: 1.4207 - accuracy: 0.8125\n",
            "Epoch 00019: val_loss improved from 2.12975 to 2.07749, saving model to model-v1.h5\n",
            "2/2 [==============================] - 0s 23ms/step - loss: 1.4756 - accuracy: 0.8000 - val_loss: 2.0775 - val_accuracy: 0.4667\n",
            "Epoch 20/500\n",
            "1/2 [==============>...............] - ETA: 0s - loss: 1.3847 - accuracy: 0.8438\n",
            "Epoch 00020: val_loss improved from 2.07749 to 2.02188, saving model to model-v1.h5\n",
            "2/2 [==============================] - 0s 23ms/step - loss: 1.3895 - accuracy: 0.8333 - val_loss: 2.0219 - val_accuracy: 0.4667\n",
            "Epoch 21/500\n",
            "1/2 [==============>...............] - ETA: 0s - loss: 1.2356 - accuracy: 0.8750\n",
            "Epoch 00021: val_loss improved from 2.02188 to 1.96324, saving model to model-v1.h5\n",
            "2/2 [==============================] - 0s 25ms/step - loss: 1.3044 - accuracy: 0.8500 - val_loss: 1.9632 - val_accuracy: 0.4667\n",
            "Epoch 22/500\n",
            "1/2 [==============>...............] - ETA: 0s - loss: 1.1201 - accuracy: 0.9375\n",
            "Epoch 00022: val_loss improved from 1.96324 to 1.89988, saving model to model-v1.h5\n",
            "2/2 [==============================] - 0s 24ms/step - loss: 1.2199 - accuracy: 0.8500 - val_loss: 1.8999 - val_accuracy: 0.5333\n",
            "Epoch 23/500\n",
            "1/2 [==============>...............] - ETA: 0s - loss: 1.2845 - accuracy: 0.7812\n",
            "Epoch 00023: val_loss improved from 1.89988 to 1.83437, saving model to model-v1.h5\n",
            "2/2 [==============================] - 0s 21ms/step - loss: 1.1334 - accuracy: 0.8500 - val_loss: 1.8344 - val_accuracy: 0.5333\n",
            "Epoch 24/500\n",
            "1/2 [==============>...............] - ETA: 0s - loss: 1.0751 - accuracy: 0.9062\n",
            "Epoch 00024: val_loss improved from 1.83437 to 1.76968, saving model to model-v1.h5\n",
            "2/2 [==============================] - 0s 22ms/step - loss: 1.0523 - accuracy: 0.8833 - val_loss: 1.7697 - val_accuracy: 0.6000\n",
            "Epoch 25/500\n",
            "1/2 [==============>...............] - ETA: 0s - loss: 0.9569 - accuracy: 0.8750\n",
            "Epoch 00025: val_loss improved from 1.76968 to 1.70388, saving model to model-v1.h5\n",
            "2/2 [==============================] - 0s 22ms/step - loss: 0.9740 - accuracy: 0.8833 - val_loss: 1.7039 - val_accuracy: 0.6000\n",
            "Epoch 26/500\n",
            "1/2 [==============>...............] - ETA: 0s - loss: 0.8897 - accuracy: 0.8750\n",
            "Epoch 00026: val_loss improved from 1.70388 to 1.63627, saving model to model-v1.h5\n",
            "2/2 [==============================] - 0s 26ms/step - loss: 0.8960 - accuracy: 0.8833 - val_loss: 1.6363 - val_accuracy: 0.6667\n",
            "Epoch 27/500\n",
            "1/2 [==============>...............] - ETA: 0s - loss: 0.8878 - accuracy: 0.8438\n",
            "Epoch 00027: val_loss improved from 1.63627 to 1.57238, saving model to model-v1.h5\n",
            "2/2 [==============================] - 0s 22ms/step - loss: 0.8219 - accuracy: 0.9000 - val_loss: 1.5724 - val_accuracy: 0.7333\n",
            "Epoch 28/500\n",
            "1/2 [==============>...............] - ETA: 0s - loss: 0.7159 - accuracy: 0.9062\n",
            "Epoch 00028: val_loss improved from 1.57238 to 1.50988, saving model to model-v1.h5\n",
            "2/2 [==============================] - 0s 21ms/step - loss: 0.7531 - accuracy: 0.9167 - val_loss: 1.5099 - val_accuracy: 0.7333\n",
            "Epoch 29/500\n",
            "1/2 [==============>...............] - ETA: 0s - loss: 0.7089 - accuracy: 0.9062\n",
            "Epoch 00029: val_loss improved from 1.50988 to 1.44624, saving model to model-v1.h5\n",
            "2/2 [==============================] - 0s 21ms/step - loss: 0.6880 - accuracy: 0.9333 - val_loss: 1.4462 - val_accuracy: 0.7333\n",
            "Epoch 30/500\n",
            "1/2 [==============>...............] - ETA: 0s - loss: 0.6610 - accuracy: 0.9062\n",
            "Epoch 00030: val_loss improved from 1.44624 to 1.38506, saving model to model-v1.h5\n",
            "2/2 [==============================] - 0s 24ms/step - loss: 0.6269 - accuracy: 0.9333 - val_loss: 1.3851 - val_accuracy: 0.7333\n",
            "Epoch 31/500\n",
            "1/2 [==============>...............] - ETA: 0s - loss: 0.5657 - accuracy: 0.9375\n",
            "Epoch 00031: val_loss improved from 1.38506 to 1.32660, saving model to model-v1.h5\n",
            "2/2 [==============================] - 0s 21ms/step - loss: 0.5701 - accuracy: 0.9333 - val_loss: 1.3266 - val_accuracy: 0.7333\n",
            "Epoch 32/500\n",
            "1/2 [==============>...............] - ETA: 0s - loss: 0.6363 - accuracy: 0.9062\n",
            "Epoch 00032: val_loss improved from 1.32660 to 1.26947, saving model to model-v1.h5\n",
            "2/2 [==============================] - 0s 21ms/step - loss: 0.5208 - accuracy: 0.9333 - val_loss: 1.2695 - val_accuracy: 0.7333\n",
            "Epoch 33/500\n",
            "1/2 [==============>...............] - ETA: 0s - loss: 0.4891 - accuracy: 0.9062\n",
            "Epoch 00033: val_loss improved from 1.26947 to 1.21822, saving model to model-v1.h5\n",
            "2/2 [==============================] - 0s 23ms/step - loss: 0.4709 - accuracy: 0.9333 - val_loss: 1.2182 - val_accuracy: 0.7333\n",
            "Epoch 34/500\n",
            "1/2 [==============>...............] - ETA: 0s - loss: 0.5803 - accuracy: 0.9062\n",
            "Epoch 00034: val_loss improved from 1.21822 to 1.16561, saving model to model-v1.h5\n",
            "2/2 [==============================] - 0s 24ms/step - loss: 0.4323 - accuracy: 0.9500 - val_loss: 1.1656 - val_accuracy: 0.7333\n",
            "Epoch 35/500\n",
            "1/2 [==============>...............] - ETA: 0s - loss: 0.4128 - accuracy: 0.9688\n",
            "Epoch 00035: val_loss improved from 1.16561 to 1.11840, saving model to model-v1.h5\n",
            "2/2 [==============================] - 0s 20ms/step - loss: 0.3910 - accuracy: 0.9667 - val_loss: 1.1184 - val_accuracy: 0.8000\n",
            "Epoch 36/500\n",
            "1/2 [==============>...............] - ETA: 0s - loss: 0.4009 - accuracy: 0.9688\n",
            "Epoch 00036: val_loss improved from 1.11840 to 1.07351, saving model to model-v1.h5\n",
            "2/2 [==============================] - 0s 24ms/step - loss: 0.3550 - accuracy: 0.9667 - val_loss: 1.0735 - val_accuracy: 0.8000\n",
            "Epoch 37/500\n",
            "1/2 [==============>...............] - ETA: 0s - loss: 0.3896 - accuracy: 0.9375\n",
            "Epoch 00037: val_loss improved from 1.07351 to 1.03234, saving model to model-v1.h5\n",
            "2/2 [==============================] - 0s 22ms/step - loss: 0.3236 - accuracy: 0.9667 - val_loss: 1.0323 - val_accuracy: 0.8000\n",
            "Epoch 38/500\n",
            "1/2 [==============>...............] - ETA: 0s - loss: 0.2382 - accuracy: 0.9688\n",
            "Epoch 00038: val_loss improved from 1.03234 to 0.99641, saving model to model-v1.h5\n",
            "2/2 [==============================] - 0s 21ms/step - loss: 0.2931 - accuracy: 0.9667 - val_loss: 0.9964 - val_accuracy: 0.8000\n",
            "Epoch 39/500\n",
            "1/2 [==============>...............] - ETA: 0s - loss: 0.2151 - accuracy: 1.0000\n",
            "Epoch 00039: val_loss improved from 0.99641 to 0.96136, saving model to model-v1.h5\n",
            "2/2 [==============================] - 0s 22ms/step - loss: 0.2677 - accuracy: 0.9667 - val_loss: 0.9614 - val_accuracy: 0.8000\n",
            "Epoch 40/500\n",
            "1/2 [==============>...............] - ETA: 0s - loss: 0.1714 - accuracy: 1.0000\n",
            "Epoch 00040: val_loss improved from 0.96136 to 0.92844, saving model to model-v1.h5\n",
            "2/2 [==============================] - 0s 22ms/step - loss: 0.2437 - accuracy: 0.9667 - val_loss: 0.9284 - val_accuracy: 0.8000\n",
            "Epoch 41/500\n",
            "1/2 [==============>...............] - ETA: 0s - loss: 0.2279 - accuracy: 1.0000\n",
            "Epoch 00041: val_loss improved from 0.92844 to 0.89835, saving model to model-v1.h5\n",
            "2/2 [==============================] - 0s 22ms/step - loss: 0.2246 - accuracy: 0.9833 - val_loss: 0.8984 - val_accuracy: 0.8000\n",
            "Epoch 42/500\n",
            "1/2 [==============>...............] - ETA: 0s - loss: 0.2273 - accuracy: 0.9688\n",
            "Epoch 00042: val_loss improved from 0.89835 to 0.86996, saving model to model-v1.h5\n",
            "2/2 [==============================] - 0s 26ms/step - loss: 0.2033 - accuracy: 0.9833 - val_loss: 0.8700 - val_accuracy: 0.8000\n",
            "Epoch 43/500\n",
            "1/2 [==============>...............] - ETA: 0s - loss: 0.1118 - accuracy: 1.0000\n",
            "Epoch 00043: val_loss improved from 0.86996 to 0.84445, saving model to model-v1.h5\n",
            "2/2 [==============================] - 0s 22ms/step - loss: 0.1853 - accuracy: 0.9833 - val_loss: 0.8445 - val_accuracy: 0.8000\n",
            "Epoch 44/500\n",
            "1/2 [==============>...............] - ETA: 0s - loss: 0.1064 - accuracy: 1.0000\n",
            "Epoch 00044: val_loss improved from 0.84445 to 0.82187, saving model to model-v1.h5\n",
            "2/2 [==============================] - 0s 21ms/step - loss: 0.1703 - accuracy: 0.9833 - val_loss: 0.8219 - val_accuracy: 0.8000\n",
            "Epoch 45/500\n",
            "1/2 [==============>...............] - ETA: 0s - loss: 0.1017 - accuracy: 1.0000\n",
            "Epoch 00045: val_loss improved from 0.82187 to 0.80098, saving model to model-v1.h5\n",
            "2/2 [==============================] - 0s 22ms/step - loss: 0.1565 - accuracy: 0.9833 - val_loss: 0.8010 - val_accuracy: 0.8000\n",
            "Epoch 46/500\n",
            "1/2 [==============>...............] - ETA: 0s - loss: 0.0941 - accuracy: 1.0000\n",
            "Epoch 00046: val_loss improved from 0.80098 to 0.77991, saving model to model-v1.h5\n",
            "2/2 [==============================] - 0s 24ms/step - loss: 0.1444 - accuracy: 0.9833 - val_loss: 0.7799 - val_accuracy: 0.8000\n",
            "Epoch 47/500\n",
            "1/2 [==============>...............] - ETA: 0s - loss: 0.1530 - accuracy: 0.9688\n",
            "Epoch 00047: val_loss improved from 0.77991 to 0.75962, saving model to model-v1.h5\n",
            "2/2 [==============================] - 0s 24ms/step - loss: 0.1336 - accuracy: 0.9833 - val_loss: 0.7596 - val_accuracy: 0.8000\n",
            "Epoch 48/500\n",
            "1/2 [==============>...............] - ETA: 0s - loss: 0.1619 - accuracy: 0.9688\n",
            "Epoch 00048: val_loss improved from 0.75962 to 0.74080, saving model to model-v1.h5\n",
            "2/2 [==============================] - 0s 22ms/step - loss: 0.1242 - accuracy: 0.9833 - val_loss: 0.7408 - val_accuracy: 0.8000\n",
            "Epoch 49/500\n",
            "1/2 [==============>...............] - ETA: 0s - loss: 0.1533 - accuracy: 0.9688\n",
            "Epoch 00049: val_loss improved from 0.74080 to 0.72483, saving model to model-v1.h5\n",
            "2/2 [==============================] - 0s 22ms/step - loss: 0.1150 - accuracy: 0.9833 - val_loss: 0.7248 - val_accuracy: 0.8000\n",
            "Epoch 50/500\n",
            "1/2 [==============>...............] - ETA: 0s - loss: 0.0796 - accuracy: 1.0000\n",
            "Epoch 00050: val_loss improved from 0.72483 to 0.71175, saving model to model-v1.h5\n",
            "2/2 [==============================] - 0s 25ms/step - loss: 0.1062 - accuracy: 0.9833 - val_loss: 0.7118 - val_accuracy: 0.8000\n",
            "Epoch 51/500\n",
            "1/2 [==============>...............] - ETA: 0s - loss: 0.0610 - accuracy: 1.0000\n",
            "Epoch 00051: val_loss improved from 0.71175 to 0.69838, saving model to model-v1.h5\n",
            "2/2 [==============================] - 0s 21ms/step - loss: 0.0988 - accuracy: 0.9833 - val_loss: 0.6984 - val_accuracy: 0.8000\n",
            "Epoch 52/500\n",
            "1/2 [==============>...............] - ETA: 0s - loss: 0.0538 - accuracy: 1.0000\n",
            "Epoch 00052: val_loss improved from 0.69838 to 0.68503, saving model to model-v1.h5\n",
            "2/2 [==============================] - 0s 24ms/step - loss: 0.0919 - accuracy: 0.9833 - val_loss: 0.6850 - val_accuracy: 0.8000\n",
            "Epoch 53/500\n",
            "1/2 [==============>...............] - ETA: 0s - loss: 0.1135 - accuracy: 0.9688\n",
            "Epoch 00053: val_loss improved from 0.68503 to 0.67191, saving model to model-v1.h5\n",
            "2/2 [==============================] - 0s 24ms/step - loss: 0.0867 - accuracy: 0.9833 - val_loss: 0.6719 - val_accuracy: 0.8000\n",
            "Epoch 54/500\n",
            "1/2 [==============>...............] - ETA: 0s - loss: 0.0495 - accuracy: 1.0000\n",
            "Epoch 00054: val_loss improved from 0.67191 to 0.66109, saving model to model-v1.h5\n",
            "2/2 [==============================] - 0s 21ms/step - loss: 0.0801 - accuracy: 0.9833 - val_loss: 0.6611 - val_accuracy: 0.8000\n",
            "Epoch 55/500\n",
            "1/2 [==============>...............] - ETA: 0s - loss: 0.0405 - accuracy: 1.0000\n",
            "Epoch 00055: val_loss improved from 0.66109 to 0.64968, saving model to model-v1.h5\n",
            "2/2 [==============================] - 0s 23ms/step - loss: 0.0748 - accuracy: 0.9833 - val_loss: 0.6497 - val_accuracy: 0.8667\n",
            "Epoch 56/500\n",
            "1/2 [==============>...............] - ETA: 0s - loss: 0.0374 - accuracy: 1.0000\n",
            "Epoch 00056: val_loss improved from 0.64968 to 0.63760, saving model to model-v1.h5\n",
            "2/2 [==============================] - 0s 24ms/step - loss: 0.0700 - accuracy: 1.0000 - val_loss: 0.6376 - val_accuracy: 0.8667\n",
            "Epoch 57/500\n",
            "1/2 [==============>...............] - ETA: 0s - loss: 0.0890 - accuracy: 1.0000\n",
            "Epoch 00057: val_loss improved from 0.63760 to 0.62531, saving model to model-v1.h5\n",
            "2/2 [==============================] - 0s 22ms/step - loss: 0.0666 - accuracy: 1.0000 - val_loss: 0.6253 - val_accuracy: 0.8667\n",
            "Epoch 58/500\n",
            "1/2 [==============>...............] - ETA: 0s - loss: 0.0793 - accuracy: 1.0000\n",
            "Epoch 00058: val_loss improved from 0.62531 to 0.61349, saving model to model-v1.h5\n",
            "2/2 [==============================] - 0s 25ms/step - loss: 0.0621 - accuracy: 1.0000 - val_loss: 0.6135 - val_accuracy: 0.8667\n",
            "Epoch 59/500\n",
            "1/2 [==============>...............] - ETA: 0s - loss: 0.0785 - accuracy: 1.0000\n",
            "Epoch 00059: val_loss improved from 0.61349 to 0.60295, saving model to model-v1.h5\n",
            "2/2 [==============================] - 0s 23ms/step - loss: 0.0582 - accuracy: 1.0000 - val_loss: 0.6030 - val_accuracy: 0.8667\n",
            "Epoch 60/500\n",
            "1/2 [==============>...............] - ETA: 0s - loss: 0.0751 - accuracy: 1.0000\n",
            "Epoch 00060: val_loss improved from 0.60295 to 0.59328, saving model to model-v1.h5\n",
            "2/2 [==============================] - 0s 21ms/step - loss: 0.0546 - accuracy: 1.0000 - val_loss: 0.5933 - val_accuracy: 0.8667\n",
            "Epoch 61/500\n",
            "1/2 [==============>...............] - ETA: 0s - loss: 0.0698 - accuracy: 1.0000\n",
            "Epoch 00061: val_loss improved from 0.59328 to 0.58494, saving model to model-v1.h5\n",
            "2/2 [==============================] - 0s 21ms/step - loss: 0.0512 - accuracy: 1.0000 - val_loss: 0.5849 - val_accuracy: 0.8667\n",
            "Epoch 62/500\n",
            "1/2 [==============>...............] - ETA: 0s - loss: 0.0319 - accuracy: 1.0000\n",
            "Epoch 00062: val_loss improved from 0.58494 to 0.57862, saving model to model-v1.h5\n",
            "2/2 [==============================] - 0s 24ms/step - loss: 0.0475 - accuracy: 1.0000 - val_loss: 0.5786 - val_accuracy: 0.8667\n",
            "Epoch 63/500\n",
            "1/2 [==============>...............] - ETA: 0s - loss: 0.0371 - accuracy: 1.0000\n",
            "Epoch 00063: val_loss improved from 0.57862 to 0.57222, saving model to model-v1.h5\n",
            "2/2 [==============================] - 0s 115ms/step - loss: 0.0448 - accuracy: 1.0000 - val_loss: 0.5722 - val_accuracy: 0.8667\n",
            "Epoch 64/500\n",
            "1/2 [==============>...............] - ETA: 0s - loss: 0.0511 - accuracy: 1.0000\n",
            "Epoch 00064: val_loss improved from 0.57222 to 0.56578, saving model to model-v1.h5\n",
            "2/2 [==============================] - 0s 29ms/step - loss: 0.0428 - accuracy: 1.0000 - val_loss: 0.5658 - val_accuracy: 0.8667\n",
            "Epoch 65/500\n",
            "1/2 [==============>...............] - ETA: 0s - loss: 0.0503 - accuracy: 1.0000\n",
            "Epoch 00065: val_loss improved from 0.56578 to 0.56003, saving model to model-v1.h5\n",
            "2/2 [==============================] - 0s 22ms/step - loss: 0.0405 - accuracy: 1.0000 - val_loss: 0.5600 - val_accuracy: 0.8667\n",
            "Epoch 66/500\n",
            "1/2 [==============>...............] - ETA: 0s - loss: 0.0462 - accuracy: 1.0000\n",
            "Epoch 00066: val_loss improved from 0.56003 to 0.55545, saving model to model-v1.h5\n",
            "2/2 [==============================] - 0s 21ms/step - loss: 0.0382 - accuracy: 1.0000 - val_loss: 0.5554 - val_accuracy: 0.8667\n",
            "Epoch 67/500\n",
            "1/2 [==============>...............] - ETA: 0s - loss: 0.0414 - accuracy: 1.0000\n",
            "Epoch 00067: val_loss improved from 0.55545 to 0.55179, saving model to model-v1.h5\n",
            "2/2 [==============================] - 0s 22ms/step - loss: 0.0363 - accuracy: 1.0000 - val_loss: 0.5518 - val_accuracy: 0.8667\n",
            "Epoch 68/500\n",
            "1/2 [==============>...............] - ETA: 0s - loss: 0.0392 - accuracy: 1.0000\n",
            "Epoch 00068: val_loss improved from 0.55179 to 0.54862, saving model to model-v1.h5\n",
            "2/2 [==============================] - 0s 25ms/step - loss: 0.0344 - accuracy: 1.0000 - val_loss: 0.5486 - val_accuracy: 0.8667\n",
            "Epoch 69/500\n",
            "1/2 [==============>...............] - ETA: 0s - loss: 0.0364 - accuracy: 1.0000\n",
            "Epoch 00069: val_loss improved from 0.54862 to 0.54569, saving model to model-v1.h5\n",
            "2/2 [==============================] - 0s 25ms/step - loss: 0.0327 - accuracy: 1.0000 - val_loss: 0.5457 - val_accuracy: 0.8667\n",
            "Epoch 70/500\n",
            "1/2 [==============>...............] - ETA: 0s - loss: 0.0248 - accuracy: 1.0000\n",
            "Epoch 00070: val_loss improved from 0.54569 to 0.54317, saving model to model-v1.h5\n",
            "2/2 [==============================] - 0s 29ms/step - loss: 0.0311 - accuracy: 1.0000 - val_loss: 0.5432 - val_accuracy: 0.8667\n",
            "Epoch 71/500\n",
            "1/2 [==============>...............] - ETA: 0s - loss: 0.0211 - accuracy: 1.0000\n",
            "Epoch 00071: val_loss improved from 0.54317 to 0.53994, saving model to model-v1.h5\n",
            "2/2 [==============================] - 0s 25ms/step - loss: 0.0296 - accuracy: 1.0000 - val_loss: 0.5399 - val_accuracy: 0.8667\n",
            "Epoch 72/500\n",
            "1/2 [==============>...............] - ETA: 0s - loss: 0.0213 - accuracy: 1.0000\n",
            "Epoch 00072: val_loss improved from 0.53994 to 0.53750, saving model to model-v1.h5\n",
            "2/2 [==============================] - 0s 21ms/step - loss: 0.0283 - accuracy: 1.0000 - val_loss: 0.5375 - val_accuracy: 0.8667\n",
            "Epoch 73/500\n",
            "1/2 [==============>...............] - ETA: 0s - loss: 0.0324 - accuracy: 1.0000\n",
            "Epoch 00073: val_loss improved from 0.53750 to 0.53565, saving model to model-v1.h5\n",
            "2/2 [==============================] - 0s 25ms/step - loss: 0.0273 - accuracy: 1.0000 - val_loss: 0.5356 - val_accuracy: 0.8667\n",
            "Epoch 74/500\n",
            "1/2 [==============>...............] - ETA: 0s - loss: 0.0199 - accuracy: 1.0000\n",
            "Epoch 00074: val_loss improved from 0.53565 to 0.53397, saving model to model-v1.h5\n",
            "2/2 [==============================] - 0s 24ms/step - loss: 0.0259 - accuracy: 1.0000 - val_loss: 0.5340 - val_accuracy: 0.8667\n",
            "Epoch 75/500\n",
            "1/2 [==============>...............] - ETA: 0s - loss: 0.0216 - accuracy: 1.0000\n",
            "Epoch 00075: val_loss improved from 0.53397 to 0.53216, saving model to model-v1.h5\n",
            "2/2 [==============================] - 0s 23ms/step - loss: 0.0248 - accuracy: 1.0000 - val_loss: 0.5322 - val_accuracy: 0.8000\n",
            "Epoch 76/500\n",
            "1/2 [==============>...............] - ETA: 0s - loss: 0.0302 - accuracy: 1.0000\n",
            "Epoch 00076: val_loss improved from 0.53216 to 0.53087, saving model to model-v1.h5\n",
            "2/2 [==============================] - 0s 22ms/step - loss: 0.0240 - accuracy: 1.0000 - val_loss: 0.5309 - val_accuracy: 0.8000\n",
            "Epoch 77/500\n",
            "1/2 [==============>...............] - ETA: 0s - loss: 0.0273 - accuracy: 1.0000\n",
            "Epoch 00077: val_loss improved from 0.53087 to 0.52939, saving model to model-v1.h5\n",
            "2/2 [==============================] - 0s 20ms/step - loss: 0.0230 - accuracy: 1.0000 - val_loss: 0.5294 - val_accuracy: 0.8000\n",
            "Epoch 78/500\n",
            "1/2 [==============>...............] - ETA: 0s - loss: 0.0150 - accuracy: 1.0000\n",
            "Epoch 00078: val_loss improved from 0.52939 to 0.52745, saving model to model-v1.h5\n",
            "2/2 [==============================] - 0s 26ms/step - loss: 0.0219 - accuracy: 1.0000 - val_loss: 0.5275 - val_accuracy: 0.8000\n",
            "Epoch 79/500\n",
            "1/2 [==============>...............] - ETA: 0s - loss: 0.0258 - accuracy: 1.0000\n",
            "Epoch 00079: val_loss improved from 0.52745 to 0.52532, saving model to model-v1.h5\n",
            "2/2 [==============================] - 0s 21ms/step - loss: 0.0212 - accuracy: 1.0000 - val_loss: 0.5253 - val_accuracy: 0.8000\n",
            "Epoch 80/500\n",
            "1/2 [==============>...............] - ETA: 0s - loss: 0.0174 - accuracy: 1.0000\n",
            "Epoch 00080: val_loss improved from 0.52532 to 0.52335, saving model to model-v1.h5\n",
            "2/2 [==============================] - 0s 22ms/step - loss: 0.0203 - accuracy: 1.0000 - val_loss: 0.5233 - val_accuracy: 0.8000\n",
            "Epoch 81/500\n",
            "1/2 [==============>...............] - ETA: 0s - loss: 0.0142 - accuracy: 1.0000\n",
            "Epoch 00081: val_loss improved from 0.52335 to 0.52199, saving model to model-v1.h5\n",
            "2/2 [==============================] - 0s 23ms/step - loss: 0.0195 - accuracy: 1.0000 - val_loss: 0.5220 - val_accuracy: 0.8000\n",
            "Epoch 82/500\n",
            "1/2 [==============>...............] - ETA: 0s - loss: 0.0215 - accuracy: 1.0000\n",
            "Epoch 00082: val_loss improved from 0.52199 to 0.52100, saving model to model-v1.h5\n",
            "2/2 [==============================] - 0s 23ms/step - loss: 0.0189 - accuracy: 1.0000 - val_loss: 0.5210 - val_accuracy: 0.8000\n",
            "Epoch 83/500\n",
            "1/2 [==============>...............] - ETA: 0s - loss: 0.0142 - accuracy: 1.0000\n",
            "Epoch 00083: val_loss improved from 0.52100 to 0.51998, saving model to model-v1.h5\n",
            "2/2 [==============================] - 0s 22ms/step - loss: 0.0182 - accuracy: 1.0000 - val_loss: 0.5200 - val_accuracy: 0.8000\n",
            "Epoch 84/500\n",
            "1/2 [==============>...............] - ETA: 0s - loss: 0.0165 - accuracy: 1.0000\n",
            "Epoch 00084: val_loss improved from 0.51998 to 0.51865, saving model to model-v1.h5\n",
            "2/2 [==============================] - 0s 21ms/step - loss: 0.0176 - accuracy: 1.0000 - val_loss: 0.5186 - val_accuracy: 0.8000\n",
            "Epoch 85/500\n",
            "1/2 [==============>...............] - ETA: 0s - loss: 0.0131 - accuracy: 1.0000\n",
            "Epoch 00085: val_loss improved from 0.51865 to 0.51721, saving model to model-v1.h5\n",
            "2/2 [==============================] - 0s 21ms/step - loss: 0.0170 - accuracy: 1.0000 - val_loss: 0.5172 - val_accuracy: 0.8000\n",
            "Epoch 86/500\n",
            "1/2 [==============>...............] - ETA: 0s - loss: 0.0192 - accuracy: 1.0000\n",
            "Epoch 00086: val_loss improved from 0.51721 to 0.51576, saving model to model-v1.h5\n",
            "2/2 [==============================] - 0s 26ms/step - loss: 0.0165 - accuracy: 1.0000 - val_loss: 0.5158 - val_accuracy: 0.8000\n",
            "Epoch 87/500\n",
            "1/2 [==============>...............] - ETA: 0s - loss: 0.0137 - accuracy: 1.0000\n",
            "Epoch 00087: val_loss improved from 0.51576 to 0.51472, saving model to model-v1.h5\n",
            "2/2 [==============================] - 0s 24ms/step - loss: 0.0159 - accuracy: 1.0000 - val_loss: 0.5147 - val_accuracy: 0.8000\n",
            "Epoch 88/500\n",
            "1/2 [==============>...............] - ETA: 0s - loss: 0.0195 - accuracy: 1.0000\n",
            "Epoch 00088: val_loss improved from 0.51472 to 0.51379, saving model to model-v1.h5\n",
            "2/2 [==============================] - 0s 24ms/step - loss: 0.0154 - accuracy: 1.0000 - val_loss: 0.5138 - val_accuracy: 0.8000\n",
            "Epoch 89/500\n",
            "1/2 [==============>...............] - ETA: 0s - loss: 0.0128 - accuracy: 1.0000\n",
            "Epoch 00089: val_loss improved from 0.51379 to 0.51298, saving model to model-v1.h5\n",
            "2/2 [==============================] - 0s 25ms/step - loss: 0.0149 - accuracy: 1.0000 - val_loss: 0.5130 - val_accuracy: 0.8000\n",
            "Epoch 90/500\n",
            "1/2 [==============>...............] - ETA: 0s - loss: 0.0127 - accuracy: 1.0000\n",
            "Epoch 00090: val_loss improved from 0.51298 to 0.51210, saving model to model-v1.h5\n",
            "2/2 [==============================] - 0s 25ms/step - loss: 0.0144 - accuracy: 1.0000 - val_loss: 0.5121 - val_accuracy: 0.8000\n",
            "Epoch 91/500\n",
            "1/2 [==============>...............] - ETA: 0s - loss: 0.0107 - accuracy: 1.0000\n",
            "Epoch 00091: val_loss improved from 0.51210 to 0.51134, saving model to model-v1.h5\n",
            "2/2 [==============================] - 0s 23ms/step - loss: 0.0140 - accuracy: 1.0000 - val_loss: 0.5113 - val_accuracy: 0.8000\n",
            "Epoch 92/500\n",
            "1/2 [==============>...............] - ETA: 0s - loss: 0.0141 - accuracy: 1.0000\n",
            "Epoch 00092: val_loss improved from 0.51134 to 0.51057, saving model to model-v1.h5\n",
            "2/2 [==============================] - 0s 22ms/step - loss: 0.0136 - accuracy: 1.0000 - val_loss: 0.5106 - val_accuracy: 0.8000\n",
            "Epoch 93/500\n",
            "1/2 [==============>...............] - ETA: 0s - loss: 0.0097 - accuracy: 1.0000\n",
            "Epoch 00093: val_loss improved from 0.51057 to 0.50953, saving model to model-v1.h5\n",
            "2/2 [==============================] - 0s 21ms/step - loss: 0.0132 - accuracy: 1.0000 - val_loss: 0.5095 - val_accuracy: 0.8000\n",
            "Epoch 94/500\n",
            "1/2 [==============>...............] - ETA: 0s - loss: 0.0109 - accuracy: 1.0000\n",
            "Epoch 00094: val_loss improved from 0.50953 to 0.50848, saving model to model-v1.h5\n",
            "2/2 [==============================] - 0s 27ms/step - loss: 0.0128 - accuracy: 1.0000 - val_loss: 0.5085 - val_accuracy: 0.8000\n",
            "Epoch 95/500\n",
            "1/2 [==============>...............] - ETA: 0s - loss: 0.0140 - accuracy: 1.0000\n",
            "Epoch 00095: val_loss improved from 0.50848 to 0.50775, saving model to model-v1.h5\n",
            "2/2 [==============================] - 0s 29ms/step - loss: 0.0125 - accuracy: 1.0000 - val_loss: 0.5078 - val_accuracy: 0.8000\n",
            "Epoch 96/500\n",
            "1/2 [==============>...............] - ETA: 0s - loss: 0.0125 - accuracy: 1.0000\n",
            "Epoch 00096: val_loss improved from 0.50775 to 0.50692, saving model to model-v1.h5\n",
            "2/2 [==============================] - 0s 25ms/step - loss: 0.0121 - accuracy: 1.0000 - val_loss: 0.5069 - val_accuracy: 0.8000\n",
            "Epoch 97/500\n",
            "1/2 [==============>...............] - ETA: 0s - loss: 0.0149 - accuracy: 1.0000\n",
            "Epoch 00097: val_loss improved from 0.50692 to 0.50623, saving model to model-v1.h5\n",
            "2/2 [==============================] - 0s 27ms/step - loss: 0.0118 - accuracy: 1.0000 - val_loss: 0.5062 - val_accuracy: 0.8000\n",
            "Epoch 98/500\n",
            "1/2 [==============>...............] - ETA: 0s - loss: 0.0128 - accuracy: 1.0000\n",
            "Epoch 00098: val_loss improved from 0.50623 to 0.50569, saving model to model-v1.h5\n",
            "2/2 [==============================] - 0s 23ms/step - loss: 0.0115 - accuracy: 1.0000 - val_loss: 0.5057 - val_accuracy: 0.8000\n",
            "Epoch 99/500\n",
            "1/2 [==============>...............] - ETA: 0s - loss: 0.0081 - accuracy: 1.0000\n",
            "Epoch 00099: val_loss improved from 0.50569 to 0.50524, saving model to model-v1.h5\n",
            "2/2 [==============================] - 0s 22ms/step - loss: 0.0112 - accuracy: 1.0000 - val_loss: 0.5052 - val_accuracy: 0.8000\n",
            "Epoch 100/500\n",
            "1/2 [==============>...............] - ETA: 0s - loss: 0.0098 - accuracy: 1.0000\n",
            "Epoch 00100: val_loss improved from 0.50524 to 0.50441, saving model to model-v1.h5\n",
            "2/2 [==============================] - 0s 22ms/step - loss: 0.0109 - accuracy: 1.0000 - val_loss: 0.5044 - val_accuracy: 0.8000\n",
            "Epoch 101/500\n",
            "1/2 [==============>...............] - ETA: 0s - loss: 0.0094 - accuracy: 1.0000\n",
            "Epoch 00101: val_loss improved from 0.50441 to 0.50376, saving model to model-v1.h5\n",
            "2/2 [==============================] - 0s 24ms/step - loss: 0.0106 - accuracy: 1.0000 - val_loss: 0.5038 - val_accuracy: 0.8000\n",
            "Epoch 102/500\n",
            "1/2 [==============>...............] - ETA: 0s - loss: 0.0128 - accuracy: 1.0000\n",
            "Epoch 00102: val_loss improved from 0.50376 to 0.50324, saving model to model-v1.h5\n",
            "2/2 [==============================] - 0s 22ms/step - loss: 0.0104 - accuracy: 1.0000 - val_loss: 0.5032 - val_accuracy: 0.8000\n",
            "Epoch 103/500\n",
            "1/2 [==============>...............] - ETA: 0s - loss: 0.0075 - accuracy: 1.0000\n",
            "Epoch 00103: val_loss improved from 0.50324 to 0.50270, saving model to model-v1.h5\n",
            "2/2 [==============================] - 0s 22ms/step - loss: 0.0101 - accuracy: 1.0000 - val_loss: 0.5027 - val_accuracy: 0.8000\n",
            "Epoch 104/500\n",
            "1/2 [==============>...............] - ETA: 0s - loss: 0.0074 - accuracy: 1.0000\n",
            "Epoch 00104: val_loss improved from 0.50270 to 0.50235, saving model to model-v1.h5\n",
            "2/2 [==============================] - 0s 24ms/step - loss: 0.0099 - accuracy: 1.0000 - val_loss: 0.5023 - val_accuracy: 0.8000\n",
            "Epoch 105/500\n",
            "1/2 [==============>...............] - ETA: 0s - loss: 0.0077 - accuracy: 1.0000\n",
            "Epoch 00105: val_loss improved from 0.50235 to 0.50166, saving model to model-v1.h5\n",
            "2/2 [==============================] - 0s 25ms/step - loss: 0.0096 - accuracy: 1.0000 - val_loss: 0.5017 - val_accuracy: 0.8000\n",
            "Epoch 106/500\n",
            "1/2 [==============>...............] - ETA: 0s - loss: 0.0108 - accuracy: 1.0000\n",
            "Epoch 00106: val_loss improved from 0.50166 to 0.50108, saving model to model-v1.h5\n",
            "2/2 [==============================] - 0s 21ms/step - loss: 0.0094 - accuracy: 1.0000 - val_loss: 0.5011 - val_accuracy: 0.8000\n",
            "Epoch 107/500\n",
            "1/2 [==============>...............] - ETA: 0s - loss: 0.0117 - accuracy: 1.0000\n",
            "Epoch 00107: val_loss improved from 0.50108 to 0.50049, saving model to model-v1.h5\n",
            "2/2 [==============================] - 0s 30ms/step - loss: 0.0092 - accuracy: 1.0000 - val_loss: 0.5005 - val_accuracy: 0.8000\n",
            "Epoch 108/500\n",
            "1/2 [==============>...............] - ETA: 0s - loss: 0.0100 - accuracy: 1.0000\n",
            "Epoch 00108: val_loss improved from 0.50049 to 0.50001, saving model to model-v1.h5\n",
            "2/2 [==============================] - 0s 25ms/step - loss: 0.0090 - accuracy: 1.0000 - val_loss: 0.5000 - val_accuracy: 0.8000\n",
            "Epoch 109/500\n",
            "1/2 [==============>...............] - ETA: 0s - loss: 0.0100 - accuracy: 1.0000\n",
            "Epoch 00109: val_loss improved from 0.50001 to 0.49948, saving model to model-v1.h5\n",
            "2/2 [==============================] - 0s 22ms/step - loss: 0.0088 - accuracy: 1.0000 - val_loss: 0.4995 - val_accuracy: 0.8000\n",
            "Epoch 110/500\n",
            "1/2 [==============>...............] - ETA: 0s - loss: 0.0099 - accuracy: 1.0000\n",
            "Epoch 00110: val_loss improved from 0.49948 to 0.49912, saving model to model-v1.h5\n",
            "2/2 [==============================] - 0s 23ms/step - loss: 0.0086 - accuracy: 1.0000 - val_loss: 0.4991 - val_accuracy: 0.8000\n",
            "Epoch 111/500\n",
            "1/2 [==============>...............] - ETA: 0s - loss: 0.0094 - accuracy: 1.0000\n",
            "Epoch 00111: val_loss improved from 0.49912 to 0.49866, saving model to model-v1.h5\n",
            "2/2 [==============================] - 0s 22ms/step - loss: 0.0084 - accuracy: 1.0000 - val_loss: 0.4987 - val_accuracy: 0.8000\n",
            "Epoch 112/500\n",
            "1/2 [==============>...............] - ETA: 0s - loss: 0.0088 - accuracy: 1.0000\n",
            "Epoch 00112: val_loss improved from 0.49866 to 0.49820, saving model to model-v1.h5\n",
            "2/2 [==============================] - 0s 25ms/step - loss: 0.0082 - accuracy: 1.0000 - val_loss: 0.4982 - val_accuracy: 0.8000\n",
            "Epoch 113/500\n",
            "1/2 [==============>...............] - ETA: 0s - loss: 0.0094 - accuracy: 1.0000\n",
            "Epoch 00113: val_loss improved from 0.49820 to 0.49786, saving model to model-v1.h5\n",
            "2/2 [==============================] - 0s 22ms/step - loss: 0.0081 - accuracy: 1.0000 - val_loss: 0.4979 - val_accuracy: 0.8000\n",
            "Epoch 114/500\n",
            "1/2 [==============>...............] - ETA: 0s - loss: 0.0070 - accuracy: 1.0000\n",
            "Epoch 00114: val_loss improved from 0.49786 to 0.49726, saving model to model-v1.h5\n",
            "2/2 [==============================] - 0s 21ms/step - loss: 0.0079 - accuracy: 1.0000 - val_loss: 0.4973 - val_accuracy: 0.8000\n",
            "Epoch 115/500\n",
            "1/2 [==============>...............] - ETA: 0s - loss: 0.0094 - accuracy: 1.0000\n",
            "Epoch 00115: val_loss improved from 0.49726 to 0.49680, saving model to model-v1.h5\n",
            "2/2 [==============================] - 0s 22ms/step - loss: 0.0077 - accuracy: 1.0000 - val_loss: 0.4968 - val_accuracy: 0.8000\n",
            "Epoch 116/500\n",
            "1/2 [==============>...............] - ETA: 0s - loss: 0.0060 - accuracy: 1.0000\n",
            "Epoch 00116: val_loss improved from 0.49680 to 0.49621, saving model to model-v1.h5\n",
            "2/2 [==============================] - 0s 22ms/step - loss: 0.0076 - accuracy: 1.0000 - val_loss: 0.4962 - val_accuracy: 0.8000\n",
            "Epoch 117/500\n",
            "1/2 [==============>...............] - ETA: 0s - loss: 0.0085 - accuracy: 1.0000\n",
            "Epoch 00117: val_loss improved from 0.49621 to 0.49534, saving model to model-v1.h5\n",
            "2/2 [==============================] - 0s 22ms/step - loss: 0.0074 - accuracy: 1.0000 - val_loss: 0.4953 - val_accuracy: 0.8000\n",
            "Epoch 118/500\n",
            "1/2 [==============>...............] - ETA: 0s - loss: 0.0057 - accuracy: 1.0000\n",
            "Epoch 00118: val_loss improved from 0.49534 to 0.49496, saving model to model-v1.h5\n",
            "2/2 [==============================] - 0s 22ms/step - loss: 0.0073 - accuracy: 1.0000 - val_loss: 0.4950 - val_accuracy: 0.8000\n",
            "Epoch 119/500\n",
            "1/2 [==============>...............] - ETA: 0s - loss: 0.0085 - accuracy: 1.0000\n",
            "Epoch 00119: val_loss improved from 0.49496 to 0.49477, saving model to model-v1.h5\n",
            "2/2 [==============================] - 0s 23ms/step - loss: 0.0072 - accuracy: 1.0000 - val_loss: 0.4948 - val_accuracy: 0.8000\n",
            "Epoch 120/500\n",
            "1/2 [==============>...............] - ETA: 0s - loss: 0.0081 - accuracy: 1.0000\n",
            "Epoch 00120: val_loss improved from 0.49477 to 0.49437, saving model to model-v1.h5\n",
            "2/2 [==============================] - 0s 27ms/step - loss: 0.0070 - accuracy: 1.0000 - val_loss: 0.4944 - val_accuracy: 0.8000\n",
            "Epoch 121/500\n",
            "1/2 [==============>...............] - ETA: 0s - loss: 0.0061 - accuracy: 1.0000\n",
            "Epoch 00121: val_loss improved from 0.49437 to 0.49421, saving model to model-v1.h5\n",
            "2/2 [==============================] - 0s 23ms/step - loss: 0.0069 - accuracy: 1.0000 - val_loss: 0.4942 - val_accuracy: 0.8000\n",
            "Epoch 122/500\n",
            "1/2 [==============>...............] - ETA: 0s - loss: 0.0076 - accuracy: 1.0000\n",
            "Epoch 00122: val_loss improved from 0.49421 to 0.49397, saving model to model-v1.h5\n",
            "2/2 [==============================] - 0s 24ms/step - loss: 0.0067 - accuracy: 1.0000 - val_loss: 0.4940 - val_accuracy: 0.8000\n",
            "Epoch 123/500\n",
            "1/2 [==============>...............] - ETA: 0s - loss: 0.0066 - accuracy: 1.0000\n",
            "Epoch 00123: val_loss improved from 0.49397 to 0.49366, saving model to model-v1.h5\n",
            "2/2 [==============================] - 0s 22ms/step - loss: 0.0066 - accuracy: 1.0000 - val_loss: 0.4937 - val_accuracy: 0.8000\n",
            "Epoch 124/500\n",
            "1/2 [==============>...............] - ETA: 0s - loss: 0.0079 - accuracy: 1.0000\n",
            "Epoch 00124: val_loss improved from 0.49366 to 0.49336, saving model to model-v1.h5\n",
            "2/2 [==============================] - 0s 20ms/step - loss: 0.0065 - accuracy: 1.0000 - val_loss: 0.4934 - val_accuracy: 0.8000\n",
            "Epoch 125/500\n",
            "1/2 [==============>...............] - ETA: 0s - loss: 0.0059 - accuracy: 1.0000\n",
            "Epoch 00125: val_loss improved from 0.49336 to 0.49303, saving model to model-v1.h5\n",
            "2/2 [==============================] - 0s 24ms/step - loss: 0.0064 - accuracy: 1.0000 - val_loss: 0.4930 - val_accuracy: 0.8000\n",
            "Epoch 126/500\n",
            "1/2 [==============>...............] - ETA: 0s - loss: 0.0070 - accuracy: 1.0000\n",
            "Epoch 00126: val_loss improved from 0.49303 to 0.49282, saving model to model-v1.h5\n",
            "2/2 [==============================] - 0s 24ms/step - loss: 0.0063 - accuracy: 1.0000 - val_loss: 0.4928 - val_accuracy: 0.8000\n",
            "Epoch 127/500\n",
            "1/2 [==============>...............] - ETA: 0s - loss: 0.0068 - accuracy: 1.0000\n",
            "Epoch 00127: val_loss improved from 0.49282 to 0.49259, saving model to model-v1.h5\n",
            "2/2 [==============================] - 0s 25ms/step - loss: 0.0062 - accuracy: 1.0000 - val_loss: 0.4926 - val_accuracy: 0.8000\n",
            "Epoch 128/500\n",
            "1/2 [==============>...............] - ETA: 0s - loss: 0.0051 - accuracy: 1.0000\n",
            "Epoch 00128: val_loss improved from 0.49259 to 0.49232, saving model to model-v1.h5\n",
            "2/2 [==============================] - 0s 28ms/step - loss: 0.0060 - accuracy: 1.0000 - val_loss: 0.4923 - val_accuracy: 0.8000\n",
            "Epoch 129/500\n",
            "1/2 [==============>...............] - ETA: 0s - loss: 0.0041 - accuracy: 1.0000\n",
            "Epoch 00129: val_loss improved from 0.49232 to 0.49197, saving model to model-v1.h5\n",
            "2/2 [==============================] - 0s 23ms/step - loss: 0.0059 - accuracy: 1.0000 - val_loss: 0.4920 - val_accuracy: 0.8000\n",
            "Epoch 130/500\n",
            "1/2 [==============>...............] - ETA: 0s - loss: 0.0047 - accuracy: 1.0000\n",
            "Epoch 00130: val_loss improved from 0.49197 to 0.49174, saving model to model-v1.h5\n",
            "2/2 [==============================] - 0s 32ms/step - loss: 0.0058 - accuracy: 1.0000 - val_loss: 0.4917 - val_accuracy: 0.8000\n",
            "Epoch 131/500\n",
            "1/2 [==============>...............] - ETA: 0s - loss: 0.0059 - accuracy: 1.0000\n",
            "Epoch 00131: val_loss improved from 0.49174 to 0.49160, saving model to model-v1.h5\n",
            "2/2 [==============================] - 0s 27ms/step - loss: 0.0057 - accuracy: 1.0000 - val_loss: 0.4916 - val_accuracy: 0.8000\n",
            "Epoch 132/500\n",
            "1/2 [==============>...............] - ETA: 0s - loss: 0.0066 - accuracy: 1.0000\n",
            "Epoch 00132: val_loss improved from 0.49160 to 0.49157, saving model to model-v1.h5\n",
            "2/2 [==============================] - 0s 29ms/step - loss: 0.0056 - accuracy: 1.0000 - val_loss: 0.4916 - val_accuracy: 0.8000\n",
            "Epoch 133/500\n",
            "1/2 [==============>...............] - ETA: 0s - loss: 0.0052 - accuracy: 1.0000\n",
            "Epoch 00133: val_loss improved from 0.49157 to 0.49139, saving model to model-v1.h5\n",
            "2/2 [==============================] - 0s 29ms/step - loss: 0.0055 - accuracy: 1.0000 - val_loss: 0.4914 - val_accuracy: 0.8000\n",
            "Epoch 134/500\n",
            "1/2 [==============>...............] - ETA: 0s - loss: 0.0064 - accuracy: 1.0000\n",
            "Epoch 00134: val_loss improved from 0.49139 to 0.49132, saving model to model-v1.h5\n",
            "2/2 [==============================] - 0s 27ms/step - loss: 0.0055 - accuracy: 1.0000 - val_loss: 0.4913 - val_accuracy: 0.8000\n",
            "Epoch 135/500\n",
            "1/2 [==============>...............] - ETA: 0s - loss: 0.0066 - accuracy: 1.0000\n",
            "Epoch 00135: val_loss improved from 0.49132 to 0.49123, saving model to model-v1.h5\n",
            "2/2 [==============================] - 0s 24ms/step - loss: 0.0054 - accuracy: 1.0000 - val_loss: 0.4912 - val_accuracy: 0.8000\n",
            "Epoch 136/500\n",
            "1/2 [==============>...............] - ETA: 0s - loss: 0.0045 - accuracy: 1.0000\n",
            "Epoch 00136: val_loss improved from 0.49123 to 0.49099, saving model to model-v1.h5\n",
            "2/2 [==============================] - 0s 25ms/step - loss: 0.0053 - accuracy: 1.0000 - val_loss: 0.4910 - val_accuracy: 0.8000\n",
            "Epoch 137/500\n",
            "1/2 [==============>...............] - ETA: 0s - loss: 0.0064 - accuracy: 1.0000\n",
            "Epoch 00137: val_loss did not improve from 0.49099\n",
            "2/2 [==============================] - 0s 21ms/step - loss: 0.0052 - accuracy: 1.0000 - val_loss: 0.4911 - val_accuracy: 0.8000\n",
            "Epoch 138/500\n",
            "1/2 [==============>...............] - ETA: 0s - loss: 0.0055 - accuracy: 1.0000\n",
            "Epoch 00138: val_loss did not improve from 0.49099\n",
            "2/2 [==============================] - 0s 16ms/step - loss: 0.0051 - accuracy: 1.0000 - val_loss: 0.4910 - val_accuracy: 0.8000\n",
            "Epoch 139/500\n",
            "1/2 [==============>...............] - ETA: 0s - loss: 0.0037 - accuracy: 1.0000\n",
            "Epoch 00139: val_loss improved from 0.49099 to 0.49083, saving model to model-v1.h5\n",
            "2/2 [==============================] - 0s 26ms/step - loss: 0.0050 - accuracy: 1.0000 - val_loss: 0.4908 - val_accuracy: 0.8000\n",
            "Epoch 140/500\n",
            "1/2 [==============>...............] - ETA: 0s - loss: 0.0055 - accuracy: 1.0000\n",
            "Epoch 00140: val_loss improved from 0.49083 to 0.49082, saving model to model-v1.h5\n",
            "2/2 [==============================] - 0s 29ms/step - loss: 0.0050 - accuracy: 1.0000 - val_loss: 0.4908 - val_accuracy: 0.8000\n",
            "Epoch 141/500\n",
            "1/2 [==============>...............] - ETA: 0s - loss: 0.0052 - accuracy: 1.0000\n",
            "Epoch 00141: val_loss improved from 0.49082 to 0.49077, saving model to model-v1.h5\n",
            "2/2 [==============================] - 0s 151ms/step - loss: 0.0049 - accuracy: 1.0000 - val_loss: 0.4908 - val_accuracy: 0.8000\n",
            "Epoch 142/500\n",
            "1/2 [==============>...............] - ETA: 0s - loss: 0.0041 - accuracy: 1.0000\n",
            "Epoch 00142: val_loss improved from 0.49077 to 0.49038, saving model to model-v1.h5\n",
            "2/2 [==============================] - 0s 28ms/step - loss: 0.0048 - accuracy: 1.0000 - val_loss: 0.4904 - val_accuracy: 0.8000\n",
            "Epoch 143/500\n",
            "1/2 [==============>...............] - ETA: 0s - loss: 0.0057 - accuracy: 1.0000\n",
            "Epoch 00143: val_loss did not improve from 0.49038\n",
            "2/2 [==============================] - 0s 16ms/step - loss: 0.0047 - accuracy: 1.0000 - val_loss: 0.4904 - val_accuracy: 0.8000\n",
            "Epoch 144/500\n",
            "1/2 [==============>...............] - ETA: 0s - loss: 0.0053 - accuracy: 1.0000\n",
            "Epoch 00144: val_loss improved from 0.49038 to 0.49023, saving model to model-v1.h5\n",
            "2/2 [==============================] - 0s 21ms/step - loss: 0.0047 - accuracy: 1.0000 - val_loss: 0.4902 - val_accuracy: 0.8000\n",
            "Epoch 145/500\n",
            "1/2 [==============>...............] - ETA: 0s - loss: 0.0051 - accuracy: 1.0000\n",
            "Epoch 00145: val_loss did not improve from 0.49023\n",
            "2/2 [==============================] - 0s 13ms/step - loss: 0.0046 - accuracy: 1.0000 - val_loss: 0.4903 - val_accuracy: 0.8000\n",
            "Epoch 146/500\n",
            "1/2 [==============>...............] - ETA: 0s - loss: 0.0037 - accuracy: 1.0000\n",
            "Epoch 00146: val_loss did not improve from 0.49023\n",
            "2/2 [==============================] - 0s 15ms/step - loss: 0.0045 - accuracy: 1.0000 - val_loss: 0.4902 - val_accuracy: 0.8000\n",
            "Epoch 147/500\n",
            "1/2 [==============>...............] - ETA: 0s - loss: 0.0052 - accuracy: 1.0000\n",
            "Epoch 00147: val_loss improved from 0.49023 to 0.49015, saving model to model-v1.h5\n",
            "\n",
            "Epoch 00147: ReduceLROnPlateau reducing learning rate to 0.00020000000949949026.\n",
            "2/2 [==============================] - 0s 25ms/step - loss: 0.0045 - accuracy: 1.0000 - val_loss: 0.4902 - val_accuracy: 0.8000\n",
            "Epoch 148/500\n",
            "1/2 [==============>...............] - ETA: 0s - loss: 0.0048 - accuracy: 1.0000\n",
            "Epoch 00148: val_loss improved from 0.49015 to 0.49010, saving model to model-v1.h5\n",
            "2/2 [==============================] - 0s 27ms/step - loss: 0.0044 - accuracy: 1.0000 - val_loss: 0.4901 - val_accuracy: 0.8000\n",
            "Epoch 149/500\n",
            "1/2 [==============>...............] - ETA: 0s - loss: 0.0046 - accuracy: 1.0000\n",
            "Epoch 00149: val_loss improved from 0.49010 to 0.49004, saving model to model-v1.h5\n",
            "2/2 [==============================] - 0s 23ms/step - loss: 0.0044 - accuracy: 1.0000 - val_loss: 0.4900 - val_accuracy: 0.8000\n",
            "Epoch 150/500\n",
            "1/2 [==============>...............] - ETA: 0s - loss: 0.0037 - accuracy: 1.0000\n",
            "Epoch 00150: val_loss improved from 0.49004 to 0.48996, saving model to model-v1.h5\n",
            "2/2 [==============================] - 0s 23ms/step - loss: 0.0044 - accuracy: 1.0000 - val_loss: 0.4900 - val_accuracy: 0.8000\n",
            "Epoch 151/500\n",
            "1/2 [==============>...............] - ETA: 0s - loss: 0.0047 - accuracy: 1.0000\n",
            "Epoch 00151: val_loss improved from 0.48996 to 0.48995, saving model to model-v1.h5\n",
            "2/2 [==============================] - 0s 29ms/step - loss: 0.0044 - accuracy: 1.0000 - val_loss: 0.4900 - val_accuracy: 0.8000\n",
            "Epoch 152/500\n",
            "1/2 [==============>...............] - ETA: 0s - loss: 0.0050 - accuracy: 1.0000\n",
            "Epoch 00152: val_loss improved from 0.48995 to 0.48991, saving model to model-v1.h5\n",
            "2/2 [==============================] - 0s 27ms/step - loss: 0.0043 - accuracy: 1.0000 - val_loss: 0.4899 - val_accuracy: 0.8000\n",
            "Epoch 153/500\n",
            "1/2 [==============>...............] - ETA: 0s - loss: 0.0046 - accuracy: 1.0000\n",
            "Epoch 00153: val_loss did not improve from 0.48991\n",
            "\n",
            "Epoch 00153: ReduceLROnPlateau reducing learning rate to 4.0000001899898055e-05.\n",
            "2/2 [==============================] - 0s 14ms/step - loss: 0.0043 - accuracy: 1.0000 - val_loss: 0.4899 - val_accuracy: 0.8000\n",
            "Epoch 154/500\n",
            "1/2 [==============>...............] - ETA: 0s - loss: 0.0048 - accuracy: 1.0000\n",
            "Epoch 00154: val_loss did not improve from 0.48991\n",
            "2/2 [==============================] - 0s 19ms/step - loss: 0.0043 - accuracy: 1.0000 - val_loss: 0.4899 - val_accuracy: 0.8000\n",
            "Epoch 155/500\n",
            "1/2 [==============>...............] - ETA: 0s - loss: 0.0049 - accuracy: 1.0000\n",
            "Epoch 00155: val_loss improved from 0.48991 to 0.48991, saving model to model-v1.h5\n",
            "2/2 [==============================] - 0s 28ms/step - loss: 0.0043 - accuracy: 1.0000 - val_loss: 0.4899 - val_accuracy: 0.8000\n",
            "Epoch 156/500\n",
            "1/2 [==============>...............] - ETA: 0s - loss: 0.0053 - accuracy: 1.0000\n",
            "Epoch 00156: val_loss improved from 0.48991 to 0.48990, saving model to model-v1.h5\n",
            "\n",
            "Epoch 00156: ReduceLROnPlateau reducing learning rate to 8.000000525498762e-06.\n",
            "2/2 [==============================] - 0s 24ms/step - loss: 0.0043 - accuracy: 1.0000 - val_loss: 0.4899 - val_accuracy: 0.8000\n",
            "Epoch 157/500\n",
            "1/2 [==============>...............] - ETA: 0s - loss: 0.0052 - accuracy: 1.0000\n",
            "Epoch 00157: val_loss improved from 0.48990 to 0.48990, saving model to model-v1.h5\n",
            "2/2 [==============================] - 0s 22ms/step - loss: 0.0043 - accuracy: 1.0000 - val_loss: 0.4899 - val_accuracy: 0.8000\n",
            "Epoch 158/500\n",
            "1/2 [==============>...............] - ETA: 0s - loss: 0.0046 - accuracy: 1.0000\n",
            "Epoch 00158: val_loss improved from 0.48990 to 0.48990, saving model to model-v1.h5\n",
            "2/2 [==============================] - 0s 27ms/step - loss: 0.0043 - accuracy: 1.0000 - val_loss: 0.4899 - val_accuracy: 0.8000\n",
            "Epoch 159/500\n",
            "1/2 [==============>...............] - ETA: 0s - loss: 0.0051 - accuracy: 1.0000\n",
            "Epoch 00159: val_loss improved from 0.48990 to 0.48989, saving model to model-v1.h5\n",
            "\n",
            "Epoch 00159: ReduceLROnPlateau reducing learning rate to 1.6000001778593287e-06.\n",
            "2/2 [==============================] - 0s 24ms/step - loss: 0.0043 - accuracy: 1.0000 - val_loss: 0.4899 - val_accuracy: 0.8000\n",
            "Epoch 160/500\n",
            "1/2 [==============>...............] - ETA: 0s - loss: 0.0038 - accuracy: 1.0000\n",
            "Epoch 00160: val_loss improved from 0.48989 to 0.48989, saving model to model-v1.h5\n",
            "2/2 [==============================] - 0s 27ms/step - loss: 0.0043 - accuracy: 1.0000 - val_loss: 0.4899 - val_accuracy: 0.8000\n",
            "Epoch 161/500\n",
            "1/2 [==============>...............] - ETA: 0s - loss: 0.0051 - accuracy: 1.0000\n",
            "Epoch 00161: val_loss improved from 0.48989 to 0.48989, saving model to model-v1.h5\n",
            "2/2 [==============================] - 0s 24ms/step - loss: 0.0043 - accuracy: 1.0000 - val_loss: 0.4899 - val_accuracy: 0.8000\n",
            "Epoch 162/500\n",
            "1/2 [==============>...............] - ETA: 0s - loss: 0.0051 - accuracy: 1.0000\n",
            "Epoch 00162: val_loss improved from 0.48989 to 0.48989, saving model to model-v1.h5\n",
            "\n",
            "Epoch 00162: ReduceLROnPlateau reducing learning rate to 3.200000264769187e-07.\n",
            "2/2 [==============================] - 0s 23ms/step - loss: 0.0043 - accuracy: 1.0000 - val_loss: 0.4899 - val_accuracy: 0.8000\n",
            "Epoch 163/500\n",
            "1/2 [==============>...............] - ETA: 0s - loss: 0.0035 - accuracy: 1.0000\n",
            "Epoch 00163: val_loss improved from 0.48989 to 0.48989, saving model to model-v1.h5\n",
            "2/2 [==============================] - 0s 27ms/step - loss: 0.0043 - accuracy: 1.0000 - val_loss: 0.4899 - val_accuracy: 0.8000\n",
            "Epoch 164/500\n",
            "1/2 [==============>...............] - ETA: 0s - loss: 0.0045 - accuracy: 1.0000\n",
            "Epoch 00164: val_loss did not improve from 0.48989\n",
            "2/2 [==============================] - 0s 15ms/step - loss: 0.0043 - accuracy: 1.0000 - val_loss: 0.4899 - val_accuracy: 0.8000\n",
            "Epoch 165/500\n",
            "1/2 [==============>...............] - ETA: 0s - loss: 0.0049 - accuracy: 1.0000\n",
            "Epoch 00165: val_loss improved from 0.48989 to 0.48989, saving model to model-v1.h5\n",
            "\n",
            "Epoch 00165: ReduceLROnPlateau reducing learning rate to 6.400000529538374e-08.\n",
            "2/2 [==============================] - 0s 25ms/step - loss: 0.0043 - accuracy: 1.0000 - val_loss: 0.4899 - val_accuracy: 0.8000\n",
            "Epoch 166/500\n",
            "1/2 [==============>...............] - ETA: 0s - loss: 0.0050 - accuracy: 1.0000\n",
            "Epoch 00166: val_loss did not improve from 0.48989\n",
            "2/2 [==============================] - 0s 17ms/step - loss: 0.0043 - accuracy: 1.0000 - val_loss: 0.4899 - val_accuracy: 0.8000\n",
            "Epoch 167/500\n",
            "1/2 [==============>...............] - ETA: 0s - loss: 0.0050 - accuracy: 1.0000\n",
            "Epoch 00167: val_loss did not improve from 0.48989\n",
            "2/2 [==============================] - 0s 18ms/step - loss: 0.0043 - accuracy: 1.0000 - val_loss: 0.4899 - val_accuracy: 0.8000\n",
            "Epoch 168/500\n",
            "1/2 [==============>...............] - ETA: 0s - loss: 0.0038 - accuracy: 1.0000\n",
            "Epoch 00168: val_loss did not improve from 0.48989\n",
            "\n",
            "Epoch 00168: ReduceLROnPlateau reducing learning rate to 1.2800001059076749e-08.\n",
            "2/2 [==============================] - 0s 15ms/step - loss: 0.0043 - accuracy: 1.0000 - val_loss: 0.4899 - val_accuracy: 0.8000\n",
            "Epoch 169/500\n",
            "1/2 [==============>...............] - ETA: 0s - loss: 0.0039 - accuracy: 1.0000\n",
            "Epoch 00169: val_loss did not improve from 0.48989\n",
            "2/2 [==============================] - 0s 16ms/step - loss: 0.0043 - accuracy: 1.0000 - val_loss: 0.4899 - val_accuracy: 0.8000\n",
            "Epoch 170/500\n",
            "1/2 [==============>...............] - ETA: 0s - loss: 0.0037 - accuracy: 1.0000\n",
            "Epoch 00170: val_loss did not improve from 0.48989\n",
            "2/2 [==============================] - 0s 14ms/step - loss: 0.0043 - accuracy: 1.0000 - val_loss: 0.4899 - val_accuracy: 0.8000\n",
            "Epoch 171/500\n",
            "1/2 [==============>...............] - ETA: 0s - loss: 0.0049 - accuracy: 1.0000\n",
            "Epoch 00171: val_loss did not improve from 0.48989\n",
            "\n",
            "Epoch 00171: ReduceLROnPlateau reducing learning rate to 2.5600002118153498e-09.\n",
            "2/2 [==============================] - 0s 23ms/step - loss: 0.0043 - accuracy: 1.0000 - val_loss: 0.4899 - val_accuracy: 0.8000\n",
            "Epoch 172/500\n",
            "1/2 [==============>...............] - ETA: 0s - loss: 0.0055 - accuracy: 1.0000\n",
            "Epoch 00172: val_loss did not improve from 0.48989\n",
            "2/2 [==============================] - 0s 15ms/step - loss: 0.0043 - accuracy: 1.0000 - val_loss: 0.4899 - val_accuracy: 0.8000\n",
            "Epoch 173/500\n",
            "1/2 [==============>...............] - ETA: 0s - loss: 0.0039 - accuracy: 1.0000\n",
            "Epoch 00173: val_loss did not improve from 0.48989\n",
            "2/2 [==============================] - 0s 16ms/step - loss: 0.0043 - accuracy: 1.0000 - val_loss: 0.4899 - val_accuracy: 0.8000\n",
            "Epoch 174/500\n",
            "1/2 [==============>...............] - ETA: 0s - loss: 0.0040 - accuracy: 1.0000\n",
            "Epoch 00174: val_loss did not improve from 0.48989\n",
            "\n",
            "Epoch 00174: ReduceLROnPlateau reducing learning rate to 5.1200004236307e-10.\n",
            "2/2 [==============================] - 0s 16ms/step - loss: 0.0043 - accuracy: 1.0000 - val_loss: 0.4899 - val_accuracy: 0.8000\n",
            "Epoch 175/500\n",
            "1/2 [==============>...............] - ETA: 0s - loss: 0.0048 - accuracy: 1.0000\n",
            "Epoch 00175: val_loss did not improve from 0.48989\n",
            "2/2 [==============================] - 0s 14ms/step - loss: 0.0043 - accuracy: 1.0000 - val_loss: 0.4899 - val_accuracy: 0.8000\n"
          ],
          "name": "stdout"
        }
      ]
    },
    {
      "cell_type": "code",
      "metadata": {
        "id": "PwqL2XzKrUB0"
      },
      "source": [
        "def get_text():\n",
        "    input_text  = ['what are you']\n",
        "    df_input = pd.DataFrame(input_text,columns=['questions'])\n",
        "    df_input\n",
        "    return df_input "
      ],
      "execution_count": null,
      "outputs": []
    },
    {
      "cell_type": "code",
      "metadata": {
        "id": "JjSfz0RtLPnw"
      },
      "source": [
        "#load artifacts \n",
        "from tensorflow.keras.models import load_model\n",
        "model = load_model('model-v1.h5')\n",
        "tokenizer_t = joblib.load('tokenizer_t.pkl')\n",
        "vocab = joblib.load('vocab.pkl')\n",
        "\n",
        "with open('mapper.p', 'rb') as fp:\n",
        "    mapper = pickle.load(fp)\n"
      ],
      "execution_count": null,
      "outputs": []
    },
    {
      "cell_type": "code",
      "metadata": {
        "id": "rlxuTGY5OnyY"
      },
      "source": [
        "def tokenizer(entry):\n",
        "    tokens = entry.split()\n",
        "    re_punc = re.compile('[%s]' % re.escape(string.punctuation))\n",
        "    tokens = [re_punc.sub('', w) for w in tokens]\n",
        "    tokens = [word for word in tokens if word.isalpha()]\n",
        "    tokens = [lemmatizer.lemmatize(w.lower()) for w in tokens]\n",
        "#     stop_words = set(stopwords.words('english'))\n",
        "#     tokens = [w for w in tokens if not w in stop_words]\n",
        "    tokens = [word.lower() for word in tokens if len(word) > 1]\n",
        "    return tokens"
      ],
      "execution_count": null,
      "outputs": []
    },
    {
      "cell_type": "code",
      "metadata": {
        "id": "VXGxH-_uOplW"
      },
      "source": [
        "def remove_stop_words_for_input(tokenizer,df,feature):\n",
        "    doc_without_stopwords = []\n",
        "    entry = df[feature][0]\n",
        "    tokens = tokenizer(entry)\n",
        "    doc_without_stopwords.append(' '.join(tokens))\n",
        "    df[feature] = doc_without_stopwords\n",
        "    return df"
      ],
      "execution_count": null,
      "outputs": []
    },
    {
      "cell_type": "code",
      "metadata": {
        "id": "oa39BBa0OrAw"
      },
      "source": [
        "def encode_input_text(tokenizer_t,df,feature):\n",
        "    t = tokenizer_t\n",
        "    entry = entry = [df[feature][0]]\n",
        "    encoded = t.texts_to_sequences(entry)\n",
        "    padded = pad_sequences(encoded, maxlen=7, padding='post')\n",
        "    return padded"
      ],
      "execution_count": null,
      "outputs": []
    },
    {
      "cell_type": "code",
      "metadata": {
        "id": "QGqdJJN3OsTe"
      },
      "source": [
        "def get_pred(model,encoded_input):\n",
        "    pred = np.argmax(model.predict(encoded_input))\n",
        "    return pred"
      ],
      "execution_count": null,
      "outputs": []
    },
    {
      "cell_type": "code",
      "metadata": {
        "id": "8myXp4h2OtiH"
      },
      "source": [
        "def bot_precausion(df_input,pred):\n",
        "    words = df_input.questions[0].split()\n",
        "    if len([w for w in words if w in vocab])==0 :\n",
        "        pred = 1\n",
        "    return pred"
      ],
      "execution_count": null,
      "outputs": []
    },
    {
      "cell_type": "code",
      "metadata": {
        "id": "AN1xvYEmOusW"
      },
      "source": [
        "def get_response(df2,pred):\n",
        "    upper_bound = df2.groupby('labels').get_group(mapper[pred]).shape[0]\n",
        "    r = np.random.randint(0, upper_bound)\n",
        "    responses = list(df2.groupby('labels').get_group(mapper[pred]).response)\n",
        "    return responses[r]\n",
        "    "
      ],
      "execution_count": null,
      "outputs": []
    },
    {
      "cell_type": "code",
      "metadata": {
        "id": "MwpaqcEgOwWA"
      },
      "source": [
        "  def bot_response(response,):\n",
        "      print(response)"
      ],
      "execution_count": null,
      "outputs": []
    },
    {
      "cell_type": "code",
      "metadata": {
        "id": "8aKuWGMeOxnL",
        "outputId": "c4086a2a-b7bc-4f61-b47e-81d5f84238a3",
        "colab": {
          "base_uri": "https://localhost:8080/"
        }
      },
      "source": [
        "df_input = get_text()\n",
        "\n",
        "#load artifacts \n",
        "tokenizer_t = joblib.load('tokenizer_t.pkl')\n",
        "vocab = joblib.load('vocab.pkl')\n",
        "\n",
        "df_input = remove_stop_words_for_input(tokenizer,df_input,'questions')\n",
        "encoded_input = encode_input_text(tokenizer_t,df_input,'questions')\n",
        "\n",
        "pred = get_pred(model,encoded_input)\n",
        "pred = bot_precausion(df_input,pred)\n",
        "\n",
        "response = get_response(df2,pred)\n",
        "bot_response(response)"
      ],
      "execution_count": null,
      "outputs": [
        {
          "output_type": "stream",
          "text": [
            "I can help you with most COVID-19 Frequently Asked Questions\n"
          ],
          "name": "stdout"
        }
      ]
    },
    {
      "cell_type": "code",
      "metadata": {
        "id": "0DEPGl-WOzAx"
      },
      "source": [
        ""
      ],
      "execution_count": null,
      "outputs": []
    }
  ]
}